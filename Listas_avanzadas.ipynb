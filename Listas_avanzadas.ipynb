{
  "nbformat": 4,
  "nbformat_minor": 0,
  "metadata": {
    "colab": {
      "provenance": [],
      "authorship_tag": "ABX9TyPXGboxongwR4KbLx4jJODt",
      "include_colab_link": true
    },
    "kernelspec": {
      "name": "python3",
      "display_name": "Python 3"
    },
    "language_info": {
      "name": "python"
    }
  },
  "cells": [
    {
      "cell_type": "markdown",
      "metadata": {
        "id": "view-in-github",
        "colab_type": "text"
      },
      "source": [
        "<a href=\"https://colab.research.google.com/github/ramun9533/Practicas_Python/blob/main/Listas_avanzadas.ipynb\" target=\"_parent\"><img src=\"https://colab.research.google.com/assets/colab-badge.svg\" alt=\"Open In Colab\"/></a>"
      ]
    },
    {
      "cell_type": "markdown",
      "source": [
        "## List Comprehension\n",
        "Es una manera  rapida y eficiente de ejecutar bucles y almacenar los resultados en una lista"
      ],
      "metadata": {
        "id": "KD0YfOGFkk18"
      }
    },
    {
      "cell_type": "code",
      "execution_count": 4,
      "metadata": {
        "colab": {
          "base_uri": "https://localhost:8080/"
        },
        "id": "W2NSbBVVkGTq",
        "outputId": "159c35ad-42fd-4dd5-caaf-515b7fb1f804"
      },
      "outputs": [
        {
          "output_type": "stream",
          "name": "stdout",
          "text": [
            "[0, 1, 4, 9, 16, 25, 36, 49, 64, 81]\n"
          ]
        }
      ],
      "source": [
        "nueva_lista = []\n",
        "\n",
        "for i in range(10):\n",
        "  nueva_lista.append(i ** 2)\n"
      ]
    },
    {
      "cell_type": "code",
      "source": [
        "print(nueva_lista)"
      ],
      "metadata": {
        "colab": {
          "base_uri": "https://localhost:8080/"
        },
        "id": "jG-sEc0fllu_",
        "outputId": "87228052-ce20-4349-97a2-12521904f664"
      },
      "execution_count": 5,
      "outputs": [
        {
          "output_type": "stream",
          "name": "stdout",
          "text": [
            "[0, 1, 4, 9, 16, 25, 36, 49, 64, 81]\n"
          ]
        }
      ]
    },
    {
      "cell_type": "code",
      "source": [
        "nueva_lista = [i ** 2 for i in range(10)]"
      ],
      "metadata": {
        "id": "MIwQOoxhlnEH"
      },
      "execution_count": 6,
      "outputs": []
    },
    {
      "cell_type": "code",
      "source": [
        "print(nueva_lista)"
      ],
      "metadata": {
        "colab": {
          "base_uri": "https://localhost:8080/"
        },
        "id": "RI6OJcd5lu2O",
        "outputId": "ba063e10-a67b-4560-dedd-b2b2a0fe083e"
      },
      "execution_count": 7,
      "outputs": [
        {
          "output_type": "stream",
          "name": "stdout",
          "text": [
            "[0, 1, 4, 9, 16, 25, 36, 49, 64, 81]\n"
          ]
        }
      ]
    },
    {
      "cell_type": "code",
      "source": [
        "numeros_lista = [0, 2,3, 5, 8, 10, 11, 14]\n",
        "numeros_pares_lista = []\n",
        "for num in numeros_lista:\n",
        "  if num % 2 == 0 and num > 0:\n",
        "    numeros_pares_lista.append(num)"
      ],
      "metadata": {
        "id": "2nLsXvVhlye_"
      },
      "execution_count": 14,
      "outputs": []
    },
    {
      "cell_type": "code",
      "source": [
        "print(numeros_pares_lista)"
      ],
      "metadata": {
        "colab": {
          "base_uri": "https://localhost:8080/"
        },
        "id": "s89NK-FjnABx",
        "outputId": "673576b8-c28b-4aca-db3a-ad00bbcabc57"
      },
      "execution_count": 15,
      "outputs": [
        {
          "output_type": "stream",
          "name": "stdout",
          "text": [
            "[2, 8, 10, 14]\n"
          ]
        }
      ]
    },
    {
      "cell_type": "code",
      "source": [
        "numeros_pares_lista = [num for num in numeros_lista if num % 2 == 0 and num > 0]"
      ],
      "metadata": {
        "id": "8fzAqgwynPez"
      },
      "execution_count": 16,
      "outputs": []
    },
    {
      "cell_type": "code",
      "source": [
        "print(numeros_pares_lista)"
      ],
      "metadata": {
        "colab": {
          "base_uri": "https://localhost:8080/"
        },
        "id": "Q4oGOpoSnhTV",
        "outputId": "d82aacd4-28e8-4095-d4ea-317411c0ba3a"
      },
      "execution_count": 17,
      "outputs": [
        {
          "output_type": "stream",
          "name": "stdout",
          "text": [
            "[2, 8, 10, 14]\n"
          ]
        }
      ]
    },
    {
      "cell_type": "code",
      "source": [
        "texto_procesando_lista = [((palabra.lower()), palabra.upper(), len(palabra)) for palabra in 'Volver al futuro'.split()]"
      ],
      "metadata": {
        "id": "niVJi-MAopF_"
      },
      "execution_count": 33,
      "outputs": []
    },
    {
      "cell_type": "code",
      "source": [
        "print(texto_procesando_lista)"
      ],
      "metadata": {
        "colab": {
          "base_uri": "https://localhost:8080/"
        },
        "id": "IIMcspOYrzv7",
        "outputId": "02ac82f3-2923-4e65-b316-079b388cb98e"
      },
      "execution_count": 34,
      "outputs": [
        {
          "output_type": "stream",
          "name": "stdout",
          "text": [
            "[('volver', 'VOLVER', 6), ('al', 'AL', 2), ('futuro', 'FUTURO', 6)]\n"
          ]
        }
      ]
    },
    {
      "cell_type": "markdown",
      "source": [
        "## FUnciones Lambda\n",
        "- Se utiliza la palabra reserbada 'lambda'\n",
        "- Funciones escritas en una sola linea de codigo\n",
        "- No tiene return para devolver un valor\n",
        "- No tienen nombre"
      ],
      "metadata": {
        "id": "5G1Q1wcwpydr"
      }
    },
    {
      "cell_type": "code",
      "source": [
        "def func(x):\n",
        "  return x ** 2"
      ],
      "metadata": {
        "id": "c1NzyiHnqCVE"
      },
      "execution_count": 20,
      "outputs": []
    },
    {
      "cell_type": "code",
      "source": [
        "func(4)"
      ],
      "metadata": {
        "colab": {
          "base_uri": "https://localhost:8080/"
        },
        "id": "JpdKSiptqM7t",
        "outputId": "ccd95375-df5e-4b39-e2ba-f91fb5439b93"
      },
      "execution_count": 21,
      "outputs": [
        {
          "output_type": "execute_result",
          "data": {
            "text/plain": [
              "16"
            ]
          },
          "metadata": {},
          "execution_count": 21
        }
      ]
    },
    {
      "cell_type": "code",
      "source": [
        "def func(x): return x **2"
      ],
      "metadata": {
        "id": "csDUjsnsqQk8"
      },
      "execution_count": 22,
      "outputs": []
    },
    {
      "cell_type": "code",
      "source": [
        "func(4)"
      ],
      "metadata": {
        "colab": {
          "base_uri": "https://localhost:8080/"
        },
        "id": "u1mZwg_1qXum",
        "outputId": "351ed61c-203e-4b25-df83-07f70d870142"
      },
      "execution_count": 35,
      "outputs": [
        {
          "output_type": "execute_result",
          "data": {
            "text/plain": [
              "16"
            ]
          },
          "metadata": {},
          "execution_count": 35
        }
      ]
    },
    {
      "cell_type": "code",
      "source": [
        "func_lambda = lambda x: x ** 2"
      ],
      "metadata": {
        "id": "9lAtfH1OsLdd"
      },
      "execution_count": 36,
      "outputs": []
    },
    {
      "cell_type": "code",
      "source": [
        "print(func_lambda)"
      ],
      "metadata": {
        "colab": {
          "base_uri": "https://localhost:8080/"
        },
        "id": "U637LGRgsW7v",
        "outputId": "ce545c9a-b842-4002-bb0f-e4b16bb305eb"
      },
      "execution_count": 37,
      "outputs": [
        {
          "output_type": "stream",
          "name": "stdout",
          "text": [
            "<function <lambda> at 0x7f307d11c940>\n"
          ]
        }
      ]
    },
    {
      "cell_type": "code",
      "source": [
        "func_lambda(4)"
      ],
      "metadata": {
        "colab": {
          "base_uri": "https://localhost:8080/"
        },
        "id": "wv98M_5asc1_",
        "outputId": "d47aacae-d259-46c8-e01c-1cc3ca48ae6c"
      },
      "execution_count": 38,
      "outputs": [
        {
          "output_type": "execute_result",
          "data": {
            "text/plain": [
              "16"
            ]
          },
          "metadata": {},
          "execution_count": 38
        }
      ]
    },
    {
      "cell_type": "markdown",
      "source": [
        "# Sorted"
      ],
      "metadata": {
        "id": "apAFpYNksxmt"
      }
    },
    {
      "cell_type": "code",
      "source": [
        "mi_lista = ['Apple', 'apple', 'ball', 'Ball', 'cat', 'Cat']\n",
        "mi_lista"
      ],
      "metadata": {
        "colab": {
          "base_uri": "https://localhost:8080/"
        },
        "id": "Q9kfSZHxshAf",
        "outputId": "1ccea732-77c7-46ee-b01d-166fad2cbcf4"
      },
      "execution_count": 43,
      "outputs": [
        {
          "output_type": "execute_result",
          "data": {
            "text/plain": [
              "['Apple', 'apple', 'ball', 'Ball', 'cat', 'Cat']"
            ]
          },
          "metadata": {},
          "execution_count": 43
        }
      ]
    },
    {
      "cell_type": "code",
      "source": [
        "sorted(mi_lista)"
      ],
      "metadata": {
        "colab": {
          "base_uri": "https://localhost:8080/"
        },
        "id": "ryWQMvuStzCQ",
        "outputId": "e9845e4f-38f0-4df1-92e2-1771f42fc7a6"
      },
      "execution_count": 44,
      "outputs": [
        {
          "output_type": "execute_result",
          "data": {
            "text/plain": [
              "['Apple', 'Ball', 'Cat', 'apple', 'ball', 'cat']"
            ]
          },
          "metadata": {},
          "execution_count": 44
        }
      ]
    },
    {
      "cell_type": "code",
      "source": [
        "sorted(mi_lista, key = lambda x: x.lower())"
      ],
      "metadata": {
        "colab": {
          "base_uri": "https://localhost:8080/"
        },
        "id": "LDYq-pFut6Af",
        "outputId": "1fbf5f90-10db-403d-9755-f6d89e89ef11"
      },
      "execution_count": 45,
      "outputs": [
        {
          "output_type": "execute_result",
          "data": {
            "text/plain": [
              "['Apple', 'apple', 'ball', 'Ball', 'cat', 'Cat']"
            ]
          },
          "metadata": {},
          "execution_count": 45
        }
      ]
    },
    {
      "cell_type": "markdown",
      "source": [
        "# Filter\n",
        "\n",
        "Nos regresa una nueva lista, que contiene cada elemento en una funcion regresa 'True'\n",
        "Nota: 'interator protocol' esta compuesto por: _iter_()_next_()\n"
      ],
      "metadata": {
        "id": "HWAFhSLsuG36"
      }
    },
    {
      "cell_type": "code",
      "source": [
        "#helo(filter)"
      ],
      "metadata": {
        "id": "Jft0cjTkuXJZ"
      },
      "execution_count": null,
      "outputs": []
    },
    {
      "cell_type": "code",
      "source": [
        "numeros_lista = [2, 18, 9, 22, 17, 24, 8, 12, 27]"
      ],
      "metadata": {
        "id": "2Ir_pfdsuuS7"
      },
      "execution_count": 50,
      "outputs": []
    },
    {
      "cell_type": "code",
      "source": [
        "list(filter(lambda numero: numero % 3 == 0, numeros_lista)) #Revisa la condicion que seria True o False, si es True regresa el valor, sino, no la regreses"
      ],
      "metadata": {
        "colab": {
          "base_uri": "https://localhost:8080/"
        },
        "id": "PoupMMtHu16T",
        "outputId": "89ff4601-45d5-4632-e6ab-7771d98b8d9d"
      },
      "execution_count": 51,
      "outputs": [
        {
          "output_type": "execute_result",
          "data": {
            "text/plain": [
              "[18, 9, 24, 12, 27]"
            ]
          },
          "metadata": {},
          "execution_count": 51
        }
      ]
    },
    {
      "cell_type": "markdown",
      "source": [
        "# Map\n",
        "Regresa un imnterador que aplica una funcion sobre cada elemento de una lista"
      ],
      "metadata": {
        "id": "kqq3eM_7wsgC"
      }
    },
    {
      "cell_type": "code",
      "source": [
        "numeros_lista = list(range(1, 11))\n",
        "numeros_lista"
      ],
      "metadata": {
        "colab": {
          "base_uri": "https://localhost:8080/"
        },
        "id": "ZK3qVLGjviJ2",
        "outputId": "fbaf3596-53dc-46c6-bd27-4867138ca785"
      },
      "execution_count": 52,
      "outputs": [
        {
          "output_type": "execute_result",
          "data": {
            "text/plain": [
              "[1, 2, 3, 4, 5, 6, 7, 8, 9, 10]"
            ]
          },
          "metadata": {},
          "execution_count": 52
        }
      ]
    },
    {
      "cell_type": "code",
      "source": [
        "list(map(lambda numero:numero ** 2, numeros_lista ))"
      ],
      "metadata": {
        "colab": {
          "base_uri": "https://localhost:8080/"
        },
        "id": "4AcjC7eZxcsR",
        "outputId": "43a5eb56-b41e-4313-948f-0cd682394c11"
      },
      "execution_count": 53,
      "outputs": [
        {
          "output_type": "execute_result",
          "data": {
            "text/plain": [
              "[1, 4, 9, 16, 25, 36, 49, 64, 81, 100]"
            ]
          },
          "metadata": {},
          "execution_count": 53
        }
      ]
    },
    {
      "cell_type": "code",
      "source": [
        "texto = \"Volver al futuro\"\n",
        "#p = palabra\n",
        "list(map(lambda p: (p.upper(), p.lower(), len(p)), texto.split()))"
      ],
      "metadata": {
        "colab": {
          "base_uri": "https://localhost:8080/"
        },
        "id": "v7BR4_LYxzA6",
        "outputId": "fcdd766c-4e36-4b7c-b82b-4640a1e567a9"
      },
      "execution_count": 63,
      "outputs": [
        {
          "output_type": "execute_result",
          "data": {
            "text/plain": [
              "[('VOLVER', 'volver', 6), ('AL', 'al', 2), ('FUTURO', 'futuro', 6)]"
            ]
          },
          "metadata": {},
          "execution_count": 63
        }
      ]
    },
    {
      "cell_type": "markdown",
      "source": [
        "# Reduece\n",
        "- Hay que importarle del modulo functools\n",
        "- Reducir una lista de valores"
      ],
      "metadata": {
        "id": "LyxoRSUrzZld"
      }
    },
    {
      "cell_type": "code",
      "source": [
        "from functools import reduce\n",
        "def sum(a, b):\n",
        "  print(f\"a ={a}, b = {b}, {a} + {b} = {a + b}\")\n",
        "  return a + b\n",
        "scores = [75, 65, 80, 95, 50]\n",
        "total = reduce(sum, scores)\n",
        "print(total)"
      ],
      "metadata": {
        "colab": {
          "base_uri": "https://localhost:8080/"
        },
        "id": "Ml0GeKj31rs5",
        "outputId": "246bb418-2c9b-4b67-ff81-1f8fad06c6e3"
      },
      "execution_count": 64,
      "outputs": [
        {
          "output_type": "stream",
          "name": "stdout",
          "text": [
            "a =75, b = 65, 75 + 65 = 140\n",
            "a =140, b = 80, 140 + 80 = 220\n",
            "a =220, b = 95, 220 + 95 = 315\n",
            "a =315, b = 50, 315 + 50 = 365\n",
            "365\n"
          ]
        }
      ]
    }
  ]
}