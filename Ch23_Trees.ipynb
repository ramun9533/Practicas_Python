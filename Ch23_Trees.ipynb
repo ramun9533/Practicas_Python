{
  "cells": [
    {
      "cell_type": "markdown",
      "metadata": {
        "id": "view-in-github",
        "colab_type": "text"
      },
      "source": [
        "<a href=\"https://colab.research.google.com/github/ramun9533/Practicas_Python/blob/main/Ch23_Trees.ipynb\" target=\"_parent\"><img src=\"https://colab.research.google.com/assets/colab-badge.svg\" alt=\"Open In Colab\"/></a>"
      ]
    },
    {
      "cell_type": "markdown",
      "metadata": {
        "id": "p0S2x9KqL-aW"
      },
      "source": [
        "# Trees\n",
        "<a href=\"https://colab.research.google.com/github/rambasnet/FDSPython-Notebooks/blob/master/Ch25-Trees.ipynb\" target=\"_parent\"><img src=\"https://colab.research.google.com/assets/colab-badge.svg\" alt=\"Open In Colab\"/></a>\n",
        "\n",
        "http://openbookproject.net/thinkcs/python/english3e/trees.html\n",
        "- like linked lists, trees are made up of nodes\n",
        "\n",
        "## Binary Tree\n",
        " - is a commonly used tree in which each node contains a reference to atmost two other nodes (possibly None)\n",
        "- these references are referred to as the left and right subtrees\n",
        "- like the node of linked list, each node also contains data/cargo\n",
        "- like linked lists, trees are recursive data structures that are defined recursively:\n",
        "    1. the empty tree, represented by None, or\n",
        "    2. a node that contains a data and two tree references (left and right subtree)"
      ]
    },
    {
      "cell_type": "markdown",
      "metadata": {
        "id": "bl-mWcr-L-aY"
      },
      "source": [
        "## Building trees\n",
        "- similar to building linked-list"
      ]
    },
    {
      "cell_type": "code",
      "execution_count": null,
      "metadata": {
        "id": "OyUo9uM-L-aZ"
      },
      "outputs": [],
      "source": [
        "class Tree:\n",
        "    def __init__(self, data, left=None, right=None):\n",
        "        self.cargo = data\n",
        "        self.left = left\n",
        "        self.right = right\n",
        "\n",
        "    def __str__(self):\n",
        "        return \"{}\".format(self.cargo)\n"
      ]
    },
    {
      "cell_type": "markdown",
      "metadata": {
        "id": "VTeM_U8UL-aa"
      },
      "source": [
        "### bottom-up way to build-trees\n",
        "- first create children and link them to the parent"
      ]
    },
    {
      "cell_type": "code",
      "execution_count": null,
      "metadata": {
        "id": "qD0mf_-aL-ab"
      },
      "outputs": [],
      "source": [
        "left = Tree(2)\n",
        "right = Tree(3)\n",
        "tree = Tree(1, left, right)"
      ]
    },
    {
      "cell_type": "code",
      "execution_count": null,
      "metadata": {
        "id": "W0jtWu36L-ab"
      },
      "outputs": [],
      "source": [
        "tree1 = Tree(10, Tree(20), Tree(30))"
      ]
    },
    {
      "cell_type": "code",
      "execution_count": null,
      "metadata": {
        "id": "7339NPtlL-ac",
        "outputId": "b058da4b-34e7-41df-8240-1e8a34ab822e",
        "colab": {
          "base_uri": "https://localhost:8080/"
        }
      },
      "outputs": [
        {
          "output_type": "stream",
          "name": "stdout",
          "text": [
            "1\n"
          ]
        }
      ],
      "source": [
        "print(tree)"
      ]
    },
    {
      "cell_type": "code",
      "execution_count": null,
      "metadata": {
        "id": "HESTEjNuL-ad",
        "outputId": "0d7444b3-35b1-481f-9216-736068ae1de7",
        "colab": {
          "base_uri": "https://localhost:8080/"
        }
      },
      "outputs": [
        {
          "output_type": "stream",
          "name": "stdout",
          "text": [
            "10\n"
          ]
        }
      ],
      "source": [
        "print(tree1)"
      ]
    },
    {
      "cell_type": "markdown",
      "metadata": {
        "id": "QjDOGnPpL-ad"
      },
      "source": [
        "## traversing tree\n",
        "- natural way to traverse a tree is recursively!"
      ]
    },
    {
      "cell_type": "code",
      "execution_count": null,
      "metadata": {
        "id": "EwnY9-2yL-ae"
      },
      "outputs": [],
      "source": [
        "def findSum(tree):\n",
        "    if not tree:\n",
        "        return 0\n",
        "    return tree.cargo + findSum(tree.left) + findSum(tree.right)\n"
      ]
    },
    {
      "cell_type": "code",
      "execution_count": null,
      "metadata": {
        "id": "zhdEaeF5L-ae",
        "outputId": "73011db4-8168-4e89-d2ac-2c93927d96e5",
        "colab": {
          "base_uri": "https://localhost:8080/"
        }
      },
      "outputs": [
        {
          "output_type": "execute_result",
          "data": {
            "text/plain": [
              "6"
            ]
          },
          "metadata": {},
          "execution_count": 7
        }
      ],
      "source": [
        "findSum(tree)"
      ]
    },
    {
      "cell_type": "code",
      "execution_count": null,
      "metadata": {
        "id": "ibPT1KdhL-ae",
        "outputId": "13e89d5d-5396-4b71-cc5e-929a72c39648",
        "colab": {
          "base_uri": "https://localhost:8080/"
        }
      },
      "outputs": [
        {
          "output_type": "execute_result",
          "data": {
            "text/plain": [
              "60"
            ]
          },
          "metadata": {},
          "execution_count": 8
        }
      ],
      "source": [
        "findSum(tree1)"
      ]
    },
    {
      "cell_type": "markdown",
      "metadata": {
        "id": "8DzgDQtkL-af"
      },
      "source": [
        "## Árboles de expresión\n",
        "- Los árboles son una forma natural de representar la estructura de una expresión sin ambigüedades.\n",
        "- la expresión infija 1 + 2 * 3 es ambigua a menos que sepamos el orden de operación que * ocurre antes de +\n",
        "- podemos usar árbol para representar la misma expresión\n",
        "     - los operandos son nodos hoja\n",
        "     - los nodos operadores contienen referencias a sus operandos; los operadores son binarios (dos operandos)\n",
        "    \n",
        "<img src=\"./resources/tree2.png\" />\n",
        "\n",
        "- aplicaciones:\n",
        "     - traducir expresiones a sufijo, prefijo e infijo\n",
        "     - los compiladores usan árboles de expresión para analizar, optimizar y traducir programas\n",
        "    \n",
        "- tres formas de atravesar árboles: pre-orden, en orden y post-orden"
      ]
    },
    {
      "cell_type": "code",
      "execution_count": null,
      "metadata": {
        "id": "-QLKeXJdL-af"
      },
      "outputs": [],
      "source": [
        "expression = Tree('+', Tree(1), Tree('*', Tree(2), Tree(3)))"
      ]
    },
    {
      "cell_type": "markdown",
      "metadata": {
        "id": "w1iu5-FhL-af"
      },
      "source": [
        "### pre-order tree traversal\n",
        "- contents of the root appear before the contents of the children\n",
        "- recursive algorithm:\n",
        "    - visit the node\n",
        "    - visit left subtree\n",
        "    - visit right subtree"
      ]
    },
    {
      "cell_type": "code",
      "execution_count": null,
      "metadata": {
        "id": "95LsocBaL-af"
      },
      "outputs": [],
      "source": [
        "def preorder(tree):\n",
        "    if not tree:\n",
        "        return\n",
        "    print(tree.cargo, end=' ')\n",
        "    preorder(tree.left)\n",
        "    preorder(tree.right)\n"
      ]
    },
    {
      "cell_type": "code",
      "execution_count": null,
      "metadata": {
        "id": "mPLIW9CgL-af",
        "outputId": "9d95c084-4dca-4dfc-c30b-694aef698231",
        "colab": {
          "base_uri": "https://localhost:8080/"
        }
      },
      "outputs": [
        {
          "output_type": "stream",
          "name": "stdout",
          "text": [
            "+ 1 * 2 3 "
          ]
        }
      ],
      "source": [
        "preorder(expression)"
      ]
    },
    {
      "cell_type": "markdown",
      "metadata": {
        "id": "wgjHqEdLL-ag"
      },
      "source": [
        "### in-order tree traversal\n",
        "- contents of the tree appear in order\n",
        "- recursive algorithm:\n",
        "    - visit left subtree\n",
        "    - visit node\n",
        "    - visit right subtree"
      ]
    },
    {
      "cell_type": "code",
      "execution_count": null,
      "metadata": {
        "id": "BieB6jLtL-ag"
      },
      "outputs": [],
      "source": [
        "def inorder(tree):\n",
        "    if not tree:\n",
        "        return\n",
        "    inorder(tree.left)\n",
        "    print(tree.cargo, end=' ')\n",
        "    inorder(tree.right)"
      ]
    },
    {
      "cell_type": "code",
      "execution_count": null,
      "metadata": {
        "id": "lkNZmbvML-ag",
        "outputId": "cf547132-fc18-4a7c-cdf8-18f1936b826b",
        "colab": {
          "base_uri": "https://localhost:8080/"
        }
      },
      "outputs": [
        {
          "output_type": "stream",
          "name": "stdout",
          "text": [
            "1 + 2 * 3 "
          ]
        }
      ],
      "source": [
        "inorder(expression)"
      ]
    },
    {
      "cell_type": "code",
      "execution_count": null,
      "metadata": {
        "id": "ay8qPyVZL-ag"
      },
      "outputs": [],
      "source": [
        "def inorderIndented(tree, level=0):\n",
        "    if not tree:\n",
        "        return\n",
        "    inorderIndented(tree.right, level+1)\n",
        "    print('   '*level + str(tree.cargo))\n",
        "    inorderIndented(tree.left, level+1)"
      ]
    },
    {
      "cell_type": "code",
      "execution_count": null,
      "metadata": {
        "id": "Lw3RG4ScL-ag",
        "outputId": "20a822ec-6a52-48b0-cea0-699ef6640d3b",
        "colab": {
          "base_uri": "https://localhost:8080/"
        }
      },
      "outputs": [
        {
          "output_type": "stream",
          "name": "stdout",
          "text": [
            "      3\n",
            "   *\n",
            "      2\n",
            "+\n",
            "   1\n"
          ]
        }
      ],
      "source": [
        "inorderIndented(expression)"
      ]
    },
    {
      "cell_type": "markdown",
      "metadata": {
        "id": "V9cQpJ0ML-ag"
      },
      "source": [
        "### post-order traversal\n",
        "- recursive algorithm:\n",
        "    1. visit left subtree\n",
        "    2. visit right subtree\n",
        "    3. visit node"
      ]
    },
    {
      "cell_type": "code",
      "execution_count": null,
      "metadata": {
        "id": "UoRuYpVtL-ah"
      },
      "outputs": [],
      "source": [
        "def postorder(tree):\n",
        "    if not tree:\n",
        "        return\n",
        "    postorder(tree.left)\n",
        "    postorder(tree.right)\n",
        "    print(tree.cargo, end=' ')"
      ]
    },
    {
      "cell_type": "code",
      "execution_count": null,
      "metadata": {
        "id": "o82m_A89L-ah",
        "outputId": "f4c906b7-3e68-41d3-fe2e-d3abf7ffc4bd",
        "colab": {
          "base_uri": "https://localhost:8080/"
        }
      },
      "outputs": [
        {
          "output_type": "stream",
          "name": "stdout",
          "text": [
            "1 2 3 * + "
          ]
        }
      ],
      "source": [
        "postorder(expression)"
      ]
    },
    {
      "cell_type": "markdown",
      "metadata": {
        "id": "2kNQG-KAL-ah"
      },
      "source": [
        "## building an expression tree\n",
        "- parse an infix expression and build the corresponding expression tree\n",
        "- e.g., (3 + 7) * 9 yields the following tree:\n",
        "<img src=\"./resources/tree3.png\">"
      ]
    },
    {
      "cell_type": "markdown",
      "metadata": {
        "id": "PD8hpJKWL-ah"
      },
      "source": [
        "1. tokenize expression into python list? How (left as an exercise)\n",
        " - (3 + 7) * 9 = [\"(\", 3, \"+\", 7, \")\", \"*\", 9, \"end\"]\n",
        "2. \"end\" token is useful for preventing the parser from reading pas the end of the list"
      ]
    },
    {
      "cell_type": "code",
      "execution_count": null,
      "metadata": {
        "id": "5hWW9gIXL-ai"
      },
      "outputs": [],
      "source": [
        "def get_token(token_list, expected):\n",
        "    if token_list[0] == expected:\n",
        "        del token_list[0]\n",
        "        return True\n",
        "    return False"
      ]
    },
    {
      "cell_type": "code",
      "execution_count": null,
      "metadata": {
        "id": "jZytQS-YL-ai"
      },
      "outputs": [],
      "source": [
        "# handles operands\n",
        "def get_number(token_list):\n",
        "    x = token_list[0]\n",
        "    if not isinstance(x, int):\n",
        "        return None\n",
        "    del token_list[0]\n",
        "    return Tree(x, None, None) # leaf node"
      ]
    },
    {
      "cell_type": "code",
      "execution_count": null,
      "metadata": {
        "id": "9CKpYV7nL-ai",
        "outputId": "d92f2bf1-96d6-45c7-eed4-4f1b441568a2",
        "colab": {
          "base_uri": "https://localhost:8080/"
        }
      },
      "outputs": [
        {
          "output_type": "stream",
          "name": "stdout",
          "text": [
            "9 "
          ]
        }
      ],
      "source": [
        "token_list = [9, 11, 'end']\n",
        "x = get_number(token_list)\n",
        "postorder(x)"
      ]
    },
    {
      "cell_type": "code",
      "execution_count": null,
      "metadata": {
        "id": "WXbIDR35L-aj",
        "outputId": "a5ecbf56-d353-4c58-ae19-d53d99000864",
        "colab": {
          "base_uri": "https://localhost:8080/"
        }
      },
      "outputs": [
        {
          "output_type": "stream",
          "name": "stdout",
          "text": [
            "[11, 'end']\n"
          ]
        }
      ],
      "source": [
        "print(token_list)"
      ]
    },
    {
      "cell_type": "code",
      "execution_count": null,
      "metadata": {
        "id": "hrU6OAE5L-aj"
      },
      "outputs": [],
      "source": [
        "def get_product(token_list):\n",
        "    a = get_number(token_list)\n",
        "    if get_token(token_list, '*'):\n",
        "        b = get_number(token_list)\n",
        "        return Tree('*', a, b)\n",
        "    return a"
      ]
    },
    {
      "cell_type": "code",
      "execution_count": null,
      "metadata": {
        "id": "_wVXmzQDL-aj"
      },
      "outputs": [],
      "source": [
        "token_list = [9, '*', 11, 'end']\n",
        "tree = get_product(token_list)"
      ]
    },
    {
      "cell_type": "code",
      "execution_count": null,
      "metadata": {
        "id": "7TPMpye-L-aj",
        "outputId": "77c9b987-e89a-46bf-9d0a-0bb7983faa16",
        "colab": {
          "base_uri": "https://localhost:8080/"
        }
      },
      "outputs": [
        {
          "output_type": "stream",
          "name": "stdout",
          "text": [
            "9 11 * "
          ]
        }
      ],
      "source": [
        "postorder(tree)"
      ]
    },
    {
      "cell_type": "code",
      "execution_count": null,
      "metadata": {
        "id": "-vEz17_-L-aj",
        "outputId": "a7657ed5-5e59-49a7-dab2-fb6c418d981b",
        "colab": {
          "base_uri": "https://localhost:8080/"
        }
      },
      "outputs": [
        {
          "output_type": "stream",
          "name": "stdout",
          "text": [
            "9 "
          ]
        }
      ],
      "source": [
        "token_list = [9, '+', 11, 'end']\n",
        "tree = get_product(token_list)\n",
        "postorder(tree)"
      ]
    },
    {
      "cell_type": "code",
      "execution_count": null,
      "metadata": {
        "id": "7SZ9LPMuL-ak"
      },
      "outputs": [],
      "source": [
        "# adapt the function for compound product such as 3 * (5 * (7 * 9))\n",
        "def get_product(token_list):\n",
        "    a = get_number(token_list)\n",
        "    if get_token(token_list, '*'):\n",
        "        b = get_product(token_list)\n",
        "        return Tree('*', a, b)\n",
        "    return a"
      ]
    },
    {
      "cell_type": "code",
      "execution_count": null,
      "metadata": {
        "id": "xjPpG5gXL-ak",
        "outputId": "80c0c45f-185e-4dd1-b498-4e7fea6a0d8f",
        "colab": {
          "base_uri": "https://localhost:8080/"
        }
      },
      "outputs": [
        {
          "output_type": "stream",
          "name": "stdout",
          "text": [
            "2 3 5 7 * * * "
          ]
        }
      ],
      "source": [
        "token_list = [2, \"*\", 3, \"*\", 5 , \"*\", 7, \"end\"]\n",
        "tree = get_product(token_list)\n",
        "postorder(tree)"
      ]
    },
    {
      "cell_type": "code",
      "execution_count": null,
      "metadata": {
        "id": "TGcZzftcL-ak"
      },
      "outputs": [],
      "source": [
        "#  a sum can be a tree with + at the root, a product on the left, and a sum on the right.\n",
        "# Or, a sum can be just a product.\n",
        "def get_sum(token_list):\n",
        "    a = get_product(token_list)\n",
        "    if get_token(token_list, \"+\"):\n",
        "        b = get_sum(token_list)\n",
        "        return Tree(\"+\", a, b)\n",
        "    return a"
      ]
    },
    {
      "cell_type": "code",
      "execution_count": null,
      "metadata": {
        "id": "Lz_tRK7SL-ak"
      },
      "outputs": [],
      "source": [
        "token_list = [9, \"*\", 11, \"+\", 5, \"*\", 7, \"end\"]\n",
        "tree = get_sum(token_list)"
      ]
    },
    {
      "cell_type": "code",
      "execution_count": null,
      "metadata": {
        "id": "oIaQ5wk7L-ap",
        "outputId": "b0424f11-5f56-47e8-b8be-0a9d4091fbb7",
        "colab": {
          "base_uri": "https://localhost:8080/"
        }
      },
      "outputs": [
        {
          "output_type": "stream",
          "name": "stdout",
          "text": [
            "9 11 * 5 7 * + "
          ]
        }
      ],
      "source": [
        "postorder(tree)"
      ]
    },
    {
      "cell_type": "code",
      "execution_count": null,
      "metadata": {
        "id": "VgBq5cuPL-ap"
      },
      "outputs": [],
      "source": [
        "# handle parenthesis\n",
        "def get_number(token_list):\n",
        "    if get_token(token_list, \"(\"):\n",
        "        x = get_sum(token_list)         # Get the subexpression\n",
        "        get_token(token_list, \")\")      # Remove the closing parenthesis\n",
        "        return x\n",
        "    else:\n",
        "        x = token_list[0]\n",
        "        if not isinstance(x, int):\n",
        "            return None\n",
        "        del token_list[0]\n",
        "        return Tree(x, None, None)"
      ]
    },
    {
      "cell_type": "code",
      "execution_count": null,
      "metadata": {
        "id": "YEphgYfHL-ap",
        "outputId": "0f766a44-92db-4bd3-f80a-33e5d452d888",
        "colab": {
          "base_uri": "https://localhost:8080/"
        }
      },
      "outputs": [
        {
          "output_type": "stream",
          "name": "stdout",
          "text": [
            "9 11 5 + 7 * * "
          ]
        }
      ],
      "source": [
        "# 9 * (11 + 5) * 7\n",
        "token_list = [9, \"*\", \"(\", 11, \"+\", 5, \")\", \"*\", 7, \"end\"]\n",
        "tree = get_sum(token_list)\n",
        "postorder(tree)"
      ]
    },
    {
      "cell_type": "markdown",
      "metadata": {
        "id": "HD5G7WxmL-aq"
      },
      "source": [
        "## handling errors on malformed expressions"
      ]
    },
    {
      "cell_type": "code",
      "execution_count": null,
      "metadata": {
        "id": "_UxfvPFxL-aq"
      },
      "outputs": [],
      "source": [
        "# handle parenthesis\n",
        "def get_number(token_list):\n",
        "    if get_token(token_list, \"(\"):\n",
        "        x = get_sum(token_list)         # Get the subexpression\n",
        "        if not get_token(token_list, \")\"): # Remove the closing parenthesis\n",
        "            raise ValueError('Missing close parenthesis!')\n",
        "        return x\n",
        "    else:\n",
        "        x = token_list[0]\n",
        "        if not isinstance(x, int):\n",
        "            return None\n",
        "        del token_list[0]\n",
        "        return Tree(x, None, None)"
      ]
    },
    {
      "cell_type": "code",
      "execution_count": null,
      "metadata": {
        "id": "IYA7i6viL-aq",
        "outputId": "37ca50a1-43cb-4db5-b902-5a4a9374b74b",
        "colab": {
          "base_uri": "https://localhost:8080/"
        }
      },
      "outputs": [
        {
          "output_type": "stream",
          "name": "stdout",
          "text": [
            "9 11 5 + 7 * * "
          ]
        }
      ],
      "source": [
        "token_list = [9, \"*\", \"(\", 11, \"+\", 5, \")\", \"*\", 7, \"end\"]\n",
        "tree = get_sum(token_list)\n",
        "postorder(tree)"
      ]
    },
    {
      "cell_type": "markdown",
      "metadata": {
        "id": "mYcQjFHdL-aq"
      },
      "source": [
        "## Ejercicios propuestos:"
      ]
    },
    {
      "cell_type": "markdown",
      "metadata": {
        "id": "yaMwYVB1L-aq"
      },
      "source": [
        "1. Modifique la función inorder para que ponga paréntesis alrededor de cada operador y par de operandos. ¿La salida es correcta y sin ambigüedades? ¿Son siempre necesarios los paréntesis?"
      ]
    },
    {
      "cell_type": "markdown",
      "metadata": {
        "id": "OC51BDSQL-aq"
      },
      "source": [
        "\n",
        "\n",
        "2. Escriba una función que tome una cadena de expresión y devuelva una lista de tokens."
      ]
    },
    {
      "cell_type": "markdown",
      "metadata": {
        "id": "cr0sQLtyL-ar"
      },
      "source": [
        "3. Encuentre otros lugares en las funciones del árbol de expresión donde pueden ocurrir errores y agregue declaraciones de elevación apropiadas. Pruebe su código con expresiones mal formadas."
      ]
    },
    {
      "cell_type": "code",
      "execution_count": null,
      "metadata": {
        "id": "rr-vn9q3L-ar"
      },
      "outputs": [],
      "source": []
    }
  ],
  "metadata": {
    "kernelspec": {
      "display_name": "Python 3",
      "language": "python",
      "name": "python3"
    },
    "language_info": {
      "codemirror_mode": {
        "name": "ipython",
        "version": 3
      },
      "file_extension": ".py",
      "mimetype": "text/x-python",
      "name": "python",
      "nbconvert_exporter": "python",
      "pygments_lexer": "ipython3",
      "version": "3.7.3"
    },
    "colab": {
      "provenance": [],
      "include_colab_link": true
    }
  },
  "nbformat": 4,
  "nbformat_minor": 0
}