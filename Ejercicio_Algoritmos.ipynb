{
  "nbformat": 4,
  "nbformat_minor": 0,
  "metadata": {
    "colab": {
      "provenance": [],
      "authorship_tag": "ABX9TyO5eoapa4X+KqM/+rqPca4q",
      "include_colab_link": true
    },
    "kernelspec": {
      "name": "python3",
      "display_name": "Python 3"
    },
    "language_info": {
      "name": "python"
    }
  },
  "cells": [
    {
      "cell_type": "markdown",
      "metadata": {
        "id": "view-in-github",
        "colab_type": "text"
      },
      "source": [
        "<a href=\"https://colab.research.google.com/github/ramun9533/Practicas_Python/blob/main/Ejercicio_Algoritmos.ipynb\" target=\"_parent\"><img src=\"https://colab.research.google.com/assets/colab-badge.svg\" alt=\"Open In Colab\"/></a>"
      ]
    },
    {
      "cell_type": "markdown",
      "source": [
        "# Desarrollo de un Algoritmo\n",
        "- Solicitar el valor para el radio\n",
        "- Aplicar la formula\n",
        "- Imprimir el resultado"
      ],
      "metadata": {
        "id": "rDiJdvZsSn4H"
      }
    },
    {
      "cell_type": "code",
      "execution_count": 46,
      "metadata": {
        "id": "JrjtxUi5Sd6l"
      },
      "outputs": [],
      "source": [
        "import math\n",
        "def funcion_circulo():\n",
        "  radio = float(input('Me das el radio: '))\n",
        "  perimetro = round(2 * math.pi * radio)\n",
        "  area = round(math.pi * radio ** 2)\n",
        "  #volumen = round((4 / 3) * radio **3)\n",
        "  return perimetro, area\n",
        "lista_circulo = ['Perimetro', 'Area']"
      ]
    },
    {
      "cell_type": "code",
      "source": [
        "circulo = funcion_circulo()\n",
        "#print(f'EL perimetro del circulo es: {curculo}')\n",
        "zcirculo = zip(lista_circulo,circulo)\n",
        "#print(zcirculo)\n",
        "list_circulo = list(zcirculo)\n",
        "dict_circulo = dict(list_circulo)\n",
        "print(f'Los datos redondeados del perimetro, area, y volumen, son: {dict_circulo}')"
      ],
      "metadata": {
        "colab": {
          "base_uri": "https://localhost:8080/"
        },
        "id": "ti8xTOkSYr3X",
        "outputId": "825cca2c-66c0-44c8-917b-96f8219bace1"
      },
      "execution_count": 47,
      "outputs": [
        {
          "output_type": "stream",
          "name": "stdout",
          "text": [
            "Me das el radio: 1.2\n",
            "Los datos redondeados del perimetro, area, y volumen, son: {'Perimetro': 8, 'Area': 5}\n"
          ]
        }
      ]
    },
    {
      "cell_type": "code",
      "source": [
        "from functools import reduce\n",
        "numeros_lista = list(range(1,1000))\n",
        "numeros_pares_lista = [num for num in numeros_lista if num % 3 == 0 and num > 0 or num % 5 == 0 and num > 0]\n",
        "#numeros_cincos_lista = [num for num in numeros_lista if num % 5 == 0 and num > 0]\n",
        "orden1 = (numeros_pares_lista + numeros_cincos_lista)\n",
        "suma = reduce(lambda numeros_cincos_lista, numeros_pares_lista:numeros_pares_lista + numeros_cincos_lista, orden1)\n",
        "sorted(orden1)\n",
        "print(orden1)\n",
        "print(suma)"
      ],
      "metadata": {
        "colab": {
          "base_uri": "https://localhost:8080/"
        },
        "id": "s8JtuFD0nn-U",
        "outputId": "7ddd4544-a981-4cba-e7b7-5e3f306f077c"
      },
      "execution_count": null,
      "outputs": [
        {
          "output_type": "stream",
          "name": "stdout",
          "text": [
            "[3, 5, 6, 9, 10, 12, 15, 18, 20, 21, 24, 25, 27, 30, 33, 35, 36, 39, 40, 42, 45, 48, 50, 51, 54, 55, 57, 60, 63, 65, 66, 69, 70, 72, 75, 78, 80, 81, 84, 85, 87, 90, 93, 95, 96, 99, 100, 102, 105, 108, 110, 111, 114, 115, 117, 120, 123, 125, 126, 129, 130, 132, 135, 138, 140, 141, 144, 145, 147, 150, 153, 155, 156, 159, 160, 162, 165, 168, 170, 171, 174, 175, 177, 180, 183, 185, 186, 189, 190, 192, 195, 198, 200, 201, 204, 205, 207, 210, 213, 215, 216, 219, 220, 222, 225, 228, 230, 231, 234, 235, 237, 240, 243, 245, 246, 249, 250, 252, 255, 258, 260, 261, 264, 265, 267, 270, 273, 275, 276, 279, 280, 282, 285, 288, 290, 291, 294, 295, 297, 300, 303, 305, 306, 309, 310, 312, 315, 318, 320, 321, 324, 325, 327, 330, 333, 335, 336, 339, 340, 342, 345, 348, 350, 351, 354, 355, 357, 360, 363, 365, 366, 369, 370, 372, 375, 378, 380, 381, 384, 385, 387, 390, 393, 395, 396, 399, 400, 402, 405, 408, 410, 411, 414, 415, 417, 420, 423, 425, 426, 429, 430, 432, 435, 438, 440, 441, 444, 445, 447, 450, 453, 455, 456, 459, 460, 462, 465, 468, 470, 471, 474, 475, 477, 480, 483, 485, 486, 489, 490, 492, 495, 498, 500, 501, 504, 505, 507, 510, 513, 515, 516, 519, 520, 522, 525, 528, 530, 531, 534, 535, 537, 540, 543, 545, 546, 549, 550, 552, 555, 558, 560, 561, 564, 565, 567, 570, 573, 575, 576, 579, 580, 582, 585, 588, 590, 591, 594, 595, 597, 600, 603, 605, 606, 609, 610, 612, 615, 618, 620, 621, 624, 625, 627, 630, 633, 635, 636, 639, 640, 642, 645, 648, 650, 651, 654, 655, 657, 660, 663, 665, 666, 669, 670, 672, 675, 678, 680, 681, 684, 685, 687, 690, 693, 695, 696, 699, 700, 702, 705, 708, 710, 711, 714, 715, 717, 720, 723, 725, 726, 729, 730, 732, 735, 738, 740, 741, 744, 745, 747, 750, 753, 755, 756, 759, 760, 762, 765, 768, 770, 771, 774, 775, 777, 780, 783, 785, 786, 789, 790, 792, 795, 798, 800, 801, 804, 805, 807, 810, 813, 815, 816, 819, 820, 822, 825, 828, 830, 831, 834, 835, 837, 840, 843, 845, 846, 849, 850, 852, 855, 858, 860, 861, 864, 865, 867, 870, 873, 875, 876, 879, 880, 882, 885, 888, 890, 891, 894, 895, 897, 900, 903, 905, 906, 909, 910, 912, 915, 918, 920, 921, 924, 925, 927, 930, 933, 935, 936, 939, 940, 942, 945, 948, 950, 951, 954, 955, 957, 960, 963, 965, 966, 969, 970, 972, 975, 978, 980, 981, 984, 985, 987, 990, 993, 995, 996, 999, 5, 10, 15, 20, 25, 30, 35, 40, 45, 50, 55, 60, 65, 70, 75, 80, 85, 90, 95, 100, 105, 110, 115, 120, 125, 130, 135, 140, 145, 150, 155, 160, 165, 170, 175, 180, 185, 190, 195, 200, 205, 210, 215, 220, 225, 230, 235, 240, 245, 250, 255, 260, 265, 270, 275, 280, 285, 290, 295, 300, 305, 310, 315, 320, 325, 330, 335, 340, 345, 350, 355, 360, 365, 370, 375, 380, 385, 390, 395, 400, 405, 410, 415, 420, 425, 430, 435, 440, 445, 450, 455, 460, 465, 470, 475, 480, 485, 490, 495, 500, 505, 510, 515, 520, 525, 530, 535, 540, 545, 550, 555, 560, 565, 570, 575, 580, 585, 590, 595, 600, 605, 610, 615, 620, 625, 630, 635, 640, 645, 650, 655, 660, 665, 670, 675, 680, 685, 690, 695, 700, 705, 710, 715, 720, 725, 730, 735, 740, 745, 750, 755, 760, 765, 770, 775, 780, 785, 790, 795, 800, 805, 810, 815, 820, 825, 830, 835, 840, 845, 850, 855, 860, 865, 870, 875, 880, 885, 890, 895, 900, 905, 910, 915, 920, 925, 930, 935, 940, 945, 950, 955, 960, 965, 970, 975, 980, 985, 990, 995]\n",
            "332668\n"
          ]
        }
      ]
    },
    {
      "cell_type": "markdown",
      "source": [
        "# Fibonacci"
      ],
      "metadata": {
        "id": "2FZe1Q4GuLBG"
      }
    },
    {
      "cell_type": "code",
      "source": [
        "x = 0\n",
        "y = 1\n",
        "lista = []\n",
        "lista1 = [x, y]\n",
        "lista2 = []\n",
        "suma = 0\n",
        "#El Rango es hasta 32, superior ya sobrepasa los 4 millones\n",
        "for i in range(32):\n",
        "  z = x + y\n",
        "  x = y\n",
        "  y = z\n",
        "  lista1.append(z)\n",
        "  if (z % 2 == 0):\n",
        "    suma = suma + z\n",
        "    lista.append(z)\n",
        "  if (z >= 4000000):\n",
        "    break\n",
        "print(f\"La lista de numeros Fobonacci es: {lista1}\")\n",
        "print(f\"La lista de numeros pares en Fobonacci es: {lista}\")\n",
        "print(f\"La Sumaa de numeros pares Fobonacci es: {suma}\")"
      ],
      "metadata": {
        "colab": {
          "base_uri": "https://localhost:8080/"
        },
        "id": "_Az8tXiGuPp2",
        "outputId": "6231a679-ba53-4211-e276-7e494cdef25c"
      },
      "execution_count": 17,
      "outputs": [
        {
          "output_type": "stream",
          "name": "stdout",
          "text": [
            "La lista de numeros Fobonacci es: [0, 1, 1, 2, 3, 5, 8, 13, 21, 34, 55, 89, 144, 233, 377, 610, 987, 1597, 2584, 4181, 6765, 10946, 17711, 28657, 46368, 75025, 121393, 196418, 317811, 514229, 832040, 1346269, 2178309, 3524578]\n",
            "La lista de numeros pares en Fobonacci es: [2, 8, 34, 144, 610, 2584, 10946, 46368, 196418, 832040, 3524578]\n",
            "La Sumaa de numeros pares Fobonacci es: 4613732\n"
          ]
        }
      ]
    },
    {
      "cell_type": "code",
      "source": [
        "numeros_capicuas = []\n",
        "acum = 0\n",
        "def es_capicua(numero):\n",
        "    conversion_de_entero_s_string = str(numero)\n",
        "    # Para denominar su inversa se usa ::-1\n",
        "    if conversion_de_entero_s_string == conversion_de_entero_s_string[::-1]:\n",
        "      return conversion_de_entero_s_string\n",
        "\n",
        "for i in range(10000):\n",
        "    # Para denominar su inversa se usa ::-1\n",
        "    if i > 100:\n",
        "      conversion_de_entero_s_string = str(i)\n",
        "      if conversion_de_entero_s_string == conversion_de_entero_s_string[::-1]:\n",
        "        #print(f'El numero {conversion_de_entero_s_string} es capicua')\n",
        "        acum+=1\n",
        "print(f\"La cantidad de numeros capicua es: {acum}\")"
      ],
      "metadata": {
        "colab": {
          "base_uri": "https://localhost:8080/"
        },
        "id": "C8F4DhNAH48c",
        "outputId": "c53a4b8b-fa33-4d58-c08f-e544f01c6204"
      },
      "execution_count": 27,
      "outputs": [
        {
          "output_type": "stream",
          "name": "stdout",
          "text": [
            "La cantidad de numeros capicua es: 180\n"
          ]
        }
      ]
    },
    {
      "cell_type": "markdown",
      "source": [
        "# III. Producto palíndromo más grande"
      ],
      "metadata": {
        "id": "wtSFB8zBtE8U"
      }
    },
    {
      "cell_type": "code",
      "source": [
        "#acum = 0\n",
        "numeros_unicos = set()\n",
        "for i in range(100):\n",
        "  for j in range(100):\n",
        "    numero = j * i\n",
        "    if numero >= 100:\n",
        "      conversion_de_entero_s_string = str(numero)\n",
        "      if conversion_de_entero_s_string == conversion_de_entero_s_string[::-1]:\n",
        "        #acum+=1\n",
        "        numeros_unicos.add(conversion_de_entero_s_string)\n",
        "#print(f'La Multiplicacion de {i} por {j} da el numero capicua: {conversion_de_entero_s_string}')\n",
        "#print(f'Numeros unicos son {numeros_unicos}')\n",
        "numeros_unicos_ordenados = sorted(list(numeros_unicos))\n",
        "print(numeros_unicos_ordenados)\n",
        "print(f\"La cantidad de numeros capicua es: {len(numeros_unicos)}\")"
      ],
      "metadata": {
        "colab": {
          "base_uri": "https://localhost:8080/"
        },
        "id": "rXoPEFAOtHVK",
        "outputId": "5fcf6bb5-accb-4e16-c60d-843452bcfe12"
      },
      "execution_count": 45,
      "outputs": [
        {
          "output_type": "stream",
          "name": "stdout",
          "text": [
            "['1001', '111', '121', '1221', '141', '1551', '161', '171', '1771', '1881', '2002', '2112', '212', '222', '232', '2332', '242', '2442', '252', '2552', '272', '2772', '282', '292', '2992', '3003', '323', '333', '343', '363', '3663', '3773', '4004', '414', '4224', '424', '434', '444', '4554', '464', '4664', '474', '4774', '484', '4884', '494', '5005', '5115', '5225', '525', '5335', '5445', '555', '575', '5775', '585', '595', '6006', '616', '6336', '636', '646', '656', '666', '676', '6776', '686', '696', '7007', '7227', '737', '747', '767', '777', '8008', '8118', '828', '8448', '848', '858', '868', '888', '9009', '949', '969', '979', '989', '999']\n",
            "La cantidad de numeros capicua es: 88\n"
          ]
        }
      ]
    }
  ]
}