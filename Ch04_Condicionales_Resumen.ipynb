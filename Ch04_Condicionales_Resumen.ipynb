{
  "nbformat": 4,
  "nbformat_minor": 0,
  "metadata": {
    "colab": {
      "provenance": [],
      "authorship_tag": "ABX9TyPfkgs7wlrh6TjYT6oFZV5P",
      "include_colab_link": true
    },
    "kernelspec": {
      "name": "python3",
      "display_name": "Python 3"
    },
    "language_info": {
      "name": "python"
    }
  },
  "cells": [
    {
      "cell_type": "markdown",
      "metadata": {
        "id": "view-in-github",
        "colab_type": "text"
      },
      "source": [
        "<a href=\"https://colab.research.google.com/github/ramun9533/Practicas_Python/blob/main/Ch04_Condicionales_Resumen.ipynb\" target=\"_parent\"><img src=\"https://colab.research.google.com/assets/colab-badge.svg\" alt=\"Open In Colab\"/></a>"
      ]
    },
    {
      "cell_type": "code",
      "execution_count": 1,
      "metadata": {
        "colab": {
          "base_uri": "https://localhost:8080/"
        },
        "id": "0sVs32vk8wO8",
        "outputId": "0a27eac9-a49a-4fd3-e803-0a852fd89301"
      },
      "outputs": [
        {
          "output_type": "stream",
          "name": "stdout",
          "text": [
            "Hola, Mundo\n"
          ]
        }
      ],
      "source": [
        "#Ejercicio basico #1\n",
        "if True:\n",
        "  print('Hola, Mundo')"
      ]
    },
    {
      "cell_type": "code",
      "source": [
        "if False:\n",
        "  print('Hola, Mundo')"
      ],
      "metadata": {
        "id": "ELfEmarI8-7o"
      },
      "execution_count": 4,
      "outputs": []
    },
    {
      "cell_type": "code",
      "source": [
        "#Ejercicoi basico 2\n",
        "a = \"fruta\"\n",
        "if a=='fruta':\n",
        "  print('Mi varible es igual a fruta')\n",
        "\n",
        "print('Esta linea se ejecuta aunque la condicion sea falsa')\n"
      ],
      "metadata": {
        "colab": {
          "base_uri": "https://localhost:8080/"
        },
        "id": "i_YElJfN9Szn",
        "outputId": "cd7f6774-be31-416e-82c6-6f33bd1e9546"
      },
      "execution_count": 5,
      "outputs": [
        {
          "output_type": "stream",
          "name": "stdout",
          "text": [
            "Mi varible es igual a fruta\n",
            "Esta linea se ejecuta aunque la condicion sea falsa\n"
          ]
        }
      ]
    },
    {
      "cell_type": "code",
      "source": [
        "#Ejercicio basico 3\n",
        "valor_1 = 100.5\n",
        "valor_2 = 100.5999\n",
        "if valor_1 > valor_2:\n",
        "  print('El valor_1 es mayor que el valor_2')\n",
        "else:\n",
        "  print('El valor_2 es mayor que el valor_1')"
      ],
      "metadata": {
        "colab": {
          "base_uri": "https://localhost:8080/"
        },
        "id": "GDn3Mvez9wIg",
        "outputId": "010581c6-64ce-47ec-f3c4-3b0715675f5a"
      },
      "execution_count": 9,
      "outputs": [
        {
          "output_type": "stream",
          "name": "stdout",
          "text": [
            "El valor_2 es mayor que el valor_1\n"
          ]
        }
      ]
    },
    {
      "cell_type": "code",
      "source": [
        "#Ejercicio basico 4\n",
        "numero = int(input('Ingresa un numero entre 1 y 5:  '))\n",
        "if numero == 1:\n",
        "  print('Ingresaste el numero 1')\n",
        "elif numero == 2:\n",
        "  print('Ingresaste el numero 2')\n",
        "elif numero == 3:\n",
        "  print('Ingresaste el numero 3')\n",
        "elif numero == 4:\n",
        "  print('Ingresaste el numero 4')\n",
        "elif numero == 5:\n",
        "  print('Ingresaste el numero 5')\n",
        "else:\n",
        "  print('Error de entreda')"
      ],
      "metadata": {
        "colab": {
          "base_uri": "https://localhost:8080/"
        },
        "id": "ncZz7YRR9zzL",
        "outputId": "06331364-f84a-4868-bbe4-1208b2196ab4"
      },
      "execution_count": 15,
      "outputs": [
        {
          "output_type": "stream",
          "name": "stdout",
          "text": [
            "Ingresa un numero entre 1 y 5:  6\n",
            "Error de entreda\n"
          ]
        }
      ]
    },
    {
      "cell_type": "code",
      "source": [
        "#Ejercicio basico 5\n",
        "#Numeros pares e inmpares\n",
        "10 % 2 == 0"
      ],
      "metadata": {
        "colab": {
          "base_uri": "https://localhost:8080/"
        },
        "id": "zymaV2gH92g2",
        "outputId": "ec76bbc4-9ad3-434a-a5c6-899be9f9d6cb"
      },
      "execution_count": 18,
      "outputs": [
        {
          "output_type": "execute_result",
          "data": {
            "text/plain": [
              "True"
            ]
          },
          "metadata": {},
          "execution_count": 18
        }
      ]
    },
    {
      "cell_type": "code",
      "source": [
        "numero = 9"
      ],
      "metadata": {
        "id": "AaH1zxqeBntv"
      },
      "execution_count": 24,
      "outputs": []
    },
    {
      "cell_type": "code",
      "source": [
        "if (numero % 2 ) == 0:\n",
        "  print('El numero es par')\n",
        "else:\n",
        "  print('El numero es impar')"
      ],
      "metadata": {
        "colab": {
          "base_uri": "https://localhost:8080/"
        },
        "id": "pSmy7-UzByre",
        "outputId": "51be535d-d303-42b9-b679-2b567f6ea4e5"
      },
      "execution_count": 25,
      "outputs": [
        {
          "output_type": "stream",
          "name": "stdout",
          "text": [
            "El numero es impar\n"
          ]
        }
      ]
    },
    {
      "cell_type": "code",
      "source": [
        "dia = input(\"Ingrese el dia: \")\n",
        "if dia == 'Lunes':\n",
        "  print(\"Principio de semana, Principio de semana?,No voy a trabajar!\")\n",
        "elif dia == 'Martes':\n",
        "  print('Ni te cases ni te embarquesPa´ que voy a arriesgarme No voy a trabajar!')\n",
        "elif dia == 'Miercoles':\n",
        "  print('Se casa la patrona Ay que pachangona! No voy a trabajar!')\n",
        "elif dia == 'Jueves':\n",
        "  print('Estoy muy desvelado Me siento hasta mareado No voy a trabajar!')\n",
        "elif dia == 'Viernes':\n",
        "  print('Que muere jesucristo! Donde se ha visto? No voy a trabajar!')\n",
        "elif dia == 'Sabado':\n",
        "  print('Trabajo medio día Por medio día No voy a trabajar!')\n",
        "elif dia == 'Domingo':\n",
        "  print('Día de descanso Bien merecido No voy a trabajar!')\n",
        "else:\n",
        "  print('Dia incorrecto')"
      ],
      "metadata": {
        "colab": {
          "base_uri": "https://localhost:8080/"
        },
        "id": "Y4as5u6MCiMR",
        "outputId": "a9d6d409-4c2e-4fd9-e193-cdaac8cca74e"
      },
      "execution_count": 26,
      "outputs": [
        {
          "output_type": "stream",
          "name": "stdout",
          "text": [
            "Ingrese el dia: Viernes\n",
            "Que muere jesucristo! Donde se ha visto? No voy a trabajar!\n"
          ]
        }
      ]
    }
  ]
}