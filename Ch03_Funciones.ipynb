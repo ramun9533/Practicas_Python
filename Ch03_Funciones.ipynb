{
  "nbformat": 4,
  "nbformat_minor": 0,
  "metadata": {
    "colab": {
      "provenance": [],
      "authorship_tag": "ABX9TyPdkdcHEc4ho5DlgvElhXCN",
      "include_colab_link": true
    },
    "kernelspec": {
      "name": "python3",
      "display_name": "Python 3"
    },
    "language_info": {
      "name": "python"
    }
  },
  "cells": [
    {
      "cell_type": "markdown",
      "metadata": {
        "id": "view-in-github",
        "colab_type": "text"
      },
      "source": [
        "<a href=\"https://colab.research.google.com/github/ramun9533/Practicas_Python/blob/main/Ch03_Funciones.ipynb\" target=\"_parent\"><img src=\"https://colab.research.google.com/assets/colab-badge.svg\" alt=\"Open In Colab\"/></a>"
      ]
    },
    {
      "cell_type": "markdown",
      "source": [],
      "metadata": {
        "id": "PKcN5uBEK8Go"
      }
    },
    {
      "cell_type": "markdown",
      "source": [
        "## 3.1 Funciones"
      ],
      "metadata": {
        "id": "qDyn9BlCKrzw"
      }
    },
    {
      "cell_type": "code",
      "execution_count": 11,
      "metadata": {
        "id": "UZ_bgZ9I4kEe"
      },
      "outputs": [],
      "source": [
        "#Para crear una funcion en python\n",
        "#usamos la palabra reservada 'def'\n",
        "def mi_primer_saludo2():\n",
        "  print(\"Hola lapiz, estoy dentro de la funcion\")\n",
        "\n",
        "#mi_primer_funcion()\n"
      ]
    },
    {
      "cell_type": "code",
      "source": [
        "del mi_primer_saludo2"
      ],
      "metadata": {
        "id": "nQbCrWsVMs3o"
      },
      "execution_count": 9,
      "outputs": []
    },
    {
      "cell_type": "code",
      "source": [
        "mi_primer_saludo2()"
      ],
      "metadata": {
        "colab": {
          "base_uri": "https://localhost:8080/"
        },
        "id": "3DaEQoZJPW-i",
        "outputId": "54089c03-3ee5-4a53-8995-a4b5b993cabf"
      },
      "execution_count": 12,
      "outputs": [
        {
          "output_type": "stream",
          "name": "stdout",
          "text": [
            "Hola lapiz, estoy dentro de la funcion\n"
          ]
        }
      ]
    }
  ]
}