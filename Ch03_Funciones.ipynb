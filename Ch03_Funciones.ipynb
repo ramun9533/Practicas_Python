{
  "nbformat": 4,
  "nbformat_minor": 0,
  "metadata": {
    "colab": {
      "provenance": [],
      "authorship_tag": "ABX9TyMju/4iSN8DdLH3uZLe8lfZ",
      "include_colab_link": true
    },
    "kernelspec": {
      "name": "python3",
      "display_name": "Python 3"
    },
    "language_info": {
      "name": "python"
    }
  },
  "cells": [
    {
      "cell_type": "markdown",
      "metadata": {
        "id": "view-in-github",
        "colab_type": "text"
      },
      "source": [
        "<a href=\"https://colab.research.google.com/github/ramun9533/Practicas_Python/blob/main/Ch03_Funciones.ipynb\" target=\"_parent\"><img src=\"https://colab.research.google.com/assets/colab-badge.svg\" alt=\"Open In Colab\"/></a>"
      ]
    },
    {
      "cell_type": "markdown",
      "source": [],
      "metadata": {
        "id": "PKcN5uBEK8Go"
      }
    },
    {
      "cell_type": "markdown",
      "source": [
        "## 3.1 Funciones"
      ],
      "metadata": {
        "id": "qDyn9BlCKrzw"
      }
    },
    {
      "cell_type": "code",
      "execution_count": null,
      "metadata": {
        "id": "UZ_bgZ9I4kEe"
      },
      "outputs": [],
      "source": [
        "#Para crear una funcion en python\n",
        "#usamos la palabra reservada 'def'\n",
        "def mi_primer_saludo2():\n",
        "  print(\"Hola lapiz, estoy dentro de la funcion\")\n",
        "\n",
        "#mi_primer_funcion()\n"
      ]
    },
    {
      "cell_type": "code",
      "source": [
        "del mi_primer_saludo2"
      ],
      "metadata": {
        "id": "nQbCrWsVMs3o"
      },
      "execution_count": null,
      "outputs": []
    },
    {
      "cell_type": "code",
      "source": [
        "mi_primer_saludo2()"
      ],
      "metadata": {
        "colab": {
          "base_uri": "https://localhost:8080/"
        },
        "id": "3DaEQoZJPW-i",
        "outputId": "54089c03-3ee5-4a53-8995-a4b5b993cabf"
      },
      "execution_count": null,
      "outputs": [
        {
          "output_type": "stream",
          "name": "stdout",
          "text": [
            "Hola lapiz, estoy dentro de la funcion\n"
          ]
        }
      ]
    },
    {
      "cell_type": "markdown",
      "source": [
        "## Creando una funcion con Argumentos\n",
        "- Crear una funcion para obtener area de un cuadrado\n"
      ],
      "metadata": {
        "id": "NziBABNEASdK"
      }
    },
    {
      "cell_type": "code",
      "source": [
        "def area_cuadrado(lado):\n",
        "  \"\"\"Calcula el area de un cuadrado\"\"\"\n",
        "  return lado * lado"
      ],
      "metadata": {
        "id": "7DKpOHe-AUx7"
      },
      "execution_count": 2,
      "outputs": []
    },
    {
      "cell_type": "code",
      "source": [
        "area_cuadrado(2)"
      ],
      "metadata": {
        "colab": {
          "base_uri": "https://localhost:8080/"
        },
        "id": "kB1jHykOBTTY",
        "outputId": "87b4afb0-497c-43e3-98f2-e0cd50c9d85a"
      },
      "execution_count": 3,
      "outputs": [
        {
          "output_type": "execute_result",
          "data": {
            "text/plain": [
              "4"
            ]
          },
          "metadata": {},
          "execution_count": 3
        }
      ]
    },
    {
      "cell_type": "code",
      "source": [
        "help(area_cuadrado)"
      ],
      "metadata": {
        "colab": {
          "base_uri": "https://localhost:8080/"
        },
        "id": "4DqDwyl1Bd0k",
        "outputId": "3991c7ca-e6f3-4e1f-c35b-8aad0af56e28"
      },
      "execution_count": 4,
      "outputs": [
        {
          "output_type": "stream",
          "name": "stdout",
          "text": [
            "Help on function area_cuadrado in module __main__:\n",
            "\n",
            "area_cuadrado(lado)\n",
            "    Calcula el area de un cuadrado\n",
            "\n"
          ]
        }
      ]
    },
    {
      "cell_type": "code",
      "source": [],
      "metadata": {
        "id": "o1tPTj9kBi7w"
      },
      "execution_count": null,
      "outputs": []
    },
    {
      "cell_type": "code",
      "source": [
        "def area_cuadrado(lado:float):\n",
        "  \"\"\"Calcula el area de un cuadrado\"\"\"\n",
        "  area = lado * lado\n",
        "  return area"
      ],
      "metadata": {
        "id": "CI3n9uzkBz6D"
      },
      "execution_count": 8,
      "outputs": []
    },
    {
      "cell_type": "code",
      "source": [
        "area_cuadrado(2)"
      ],
      "metadata": {
        "colab": {
          "base_uri": "https://localhost:8080/"
        },
        "id": "ttdYQo-kCHA7",
        "outputId": "78feb66b-080b-4d14-c823-11390817210c"
      },
      "execution_count": 11,
      "outputs": [
        {
          "output_type": "execute_result",
          "data": {
            "text/plain": [
              "4"
            ]
          },
          "metadata": {},
          "execution_count": 11
        }
      ]
    },
    {
      "cell_type": "code",
      "source": [
        "import math\n",
        "#pi =3.14159\n",
        "def perimetro_rectangulo(altura:float, anchura:float):\n",
        "  perimetro = altura * 2 + anchura * 2\n",
        "  return perimetro\n",
        "def area_rectangulo(altura:float, anchura:float):\n",
        "  area_rec = altura * anchura\n",
        "  return area_rec\n",
        "def perimetro_circulo(radio:float):\n",
        "  perimetroCirculo = 2 * math.pi * radio\n",
        "  return perimetroCirculo\n",
        "def area_circulo(radio:float):\n",
        "  areaCirculo = math.pi * pow(radio,2)\n",
        "  return areaCirculo"
      ],
      "metadata": {
        "id": "PNzwiFMTDcJh"
      },
      "execution_count": 23,
      "outputs": []
    },
    {
      "cell_type": "code",
      "source": [
        "math.pi"
      ],
      "metadata": {
        "colab": {
          "base_uri": "https://localhost:8080/"
        },
        "id": "a5ag4YaWIb6y",
        "outputId": "c88ca16a-4415-4fb6-d5c1-14303443a3ff"
      },
      "execution_count": 21,
      "outputs": [
        {
          "output_type": "execute_result",
          "data": {
            "text/plain": [
              "3.141592653589793"
            ]
          },
          "metadata": {},
          "execution_count": 21
        }
      ]
    },
    {
      "cell_type": "code",
      "source": [
        "area_circulo(3)"
      ],
      "metadata": {
        "colab": {
          "base_uri": "https://localhost:8080/"
        },
        "id": "MQ3j8wOUG08i",
        "outputId": "e93daa3f-f2aa-43f0-9f5e-e0d7acae2750"
      },
      "execution_count": 24,
      "outputs": [
        {
          "output_type": "execute_result",
          "data": {
            "text/plain": [
              "28.274333882308138"
            ]
          },
          "metadata": {},
          "execution_count": 24
        }
      ]
    },
    {
      "cell_type": "code",
      "source": [
        "perimetro_circulo(3)"
      ],
      "metadata": {
        "colab": {
          "base_uri": "https://localhost:8080/"
        },
        "id": "U1LR65rvIux2",
        "outputId": "a3f08734-61cf-4f27-9826-88b204e96e3c"
      },
      "execution_count": 25,
      "outputs": [
        {
          "output_type": "execute_result",
          "data": {
            "text/plain": [
              "18.84955592153876"
            ]
          },
          "metadata": {},
          "execution_count": 25
        }
      ]
    },
    {
      "cell_type": "markdown",
      "source": [
        "perimetro_rectangulo(3,4)"
      ],
      "metadata": {
        "id": "_cyJVq0HI1cj"
      }
    },
    {
      "cell_type": "code",
      "source": [
        "area_rectangulo(3,4)"
      ],
      "metadata": {
        "colab": {
          "base_uri": "https://localhost:8080/"
        },
        "id": "2enwGsIXI-yj",
        "outputId": "46873274-650a-4c07-85ed-c9830f8e0fba"
      },
      "execution_count": 27,
      "outputs": [
        {
          "output_type": "execute_result",
          "data": {
            "text/plain": [
              "12"
            ]
          },
          "metadata": {},
          "execution_count": 27
        }
      ]
    }
  ]
}