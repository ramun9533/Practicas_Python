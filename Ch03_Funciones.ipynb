{
  "nbformat": 4,
  "nbformat_minor": 0,
  "metadata": {
    "colab": {
      "provenance": [],
      "authorship_tag": "ABX9TyOgmpCbhb0IabnTRqfwzSC+",
      "include_colab_link": true
    },
    "kernelspec": {
      "name": "python3",
      "display_name": "Python 3"
    },
    "language_info": {
      "name": "python"
    }
  },
  "cells": [
    {
      "cell_type": "markdown",
      "metadata": {
        "id": "view-in-github",
        "colab_type": "text"
      },
      "source": [
        "<a href=\"https://colab.research.google.com/github/ramun9533/Practicas_Python/blob/main/Ch03_Funciones.ipynb\" target=\"_parent\"><img src=\"https://colab.research.google.com/assets/colab-badge.svg\" alt=\"Open In Colab\"/></a>"
      ]
    },
    {
      "cell_type": "markdown",
      "source": [],
      "metadata": {
        "id": "PKcN5uBEK8Go"
      }
    },
    {
      "cell_type": "markdown",
      "source": [
        "## 3.1 Funciones"
      ],
      "metadata": {
        "id": "qDyn9BlCKrzw"
      }
    },
    {
      "cell_type": "code",
      "execution_count": null,
      "metadata": {
        "id": "UZ_bgZ9I4kEe"
      },
      "outputs": [],
      "source": [
        "#Para crear una funcion en python\n",
        "#usamos la palabra reservada 'def'\n",
        "def mi_primer_saludo2():\n",
        "  print(\"Hola lapiz, estoy dentro de la funcion\")\n",
        "\n",
        "#mi_primer_funcion()\n"
      ]
    },
    {
      "cell_type": "code",
      "source": [
        "del mi_primer_saludo2"
      ],
      "metadata": {
        "id": "nQbCrWsVMs3o"
      },
      "execution_count": null,
      "outputs": []
    },
    {
      "cell_type": "code",
      "source": [
        "mi_primer_saludo2()"
      ],
      "metadata": {
        "colab": {
          "base_uri": "https://localhost:8080/"
        },
        "id": "3DaEQoZJPW-i",
        "outputId": "54089c03-3ee5-4a53-8995-a4b5b993cabf"
      },
      "execution_count": null,
      "outputs": [
        {
          "output_type": "stream",
          "name": "stdout",
          "text": [
            "Hola lapiz, estoy dentro de la funcion\n"
          ]
        }
      ]
    },
    {
      "cell_type": "markdown",
      "source": [
        "## Creando una funcion con Argumentos\n",
        "- Crear una funcion para obtener area de un cuadrado\n"
      ],
      "metadata": {
        "id": "NziBABNEASdK"
      }
    },
    {
      "cell_type": "code",
      "source": [
        "def area_cuadrado(lado):\n",
        "  \"\"\"Calcula el area de un cuadrado\"\"\"\n",
        "  return lado * lado"
      ],
      "metadata": {
        "id": "7DKpOHe-AUx7"
      },
      "execution_count": 2,
      "outputs": []
    },
    {
      "cell_type": "code",
      "source": [
        "area_cuadrado(2)"
      ],
      "metadata": {
        "colab": {
          "base_uri": "https://localhost:8080/"
        },
        "id": "kB1jHykOBTTY",
        "outputId": "87b4afb0-497c-43e3-98f2-e0cd50c9d85a"
      },
      "execution_count": 3,
      "outputs": [
        {
          "output_type": "execute_result",
          "data": {
            "text/plain": [
              "4"
            ]
          },
          "metadata": {},
          "execution_count": 3
        }
      ]
    },
    {
      "cell_type": "code",
      "source": [
        "help(area_cuadrado)"
      ],
      "metadata": {
        "colab": {
          "base_uri": "https://localhost:8080/"
        },
        "id": "4DqDwyl1Bd0k",
        "outputId": "3991c7ca-e6f3-4e1f-c35b-8aad0af56e28"
      },
      "execution_count": 4,
      "outputs": [
        {
          "output_type": "stream",
          "name": "stdout",
          "text": [
            "Help on function area_cuadrado in module __main__:\n",
            "\n",
            "area_cuadrado(lado)\n",
            "    Calcula el area de un cuadrado\n",
            "\n"
          ]
        }
      ]
    },
    {
      "cell_type": "code",
      "source": [],
      "metadata": {
        "id": "o1tPTj9kBi7w"
      },
      "execution_count": null,
      "outputs": []
    }
  ]
}