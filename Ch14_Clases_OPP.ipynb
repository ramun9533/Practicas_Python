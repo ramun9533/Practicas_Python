{
  "nbformat": 4,
  "nbformat_minor": 0,
  "metadata": {
    "colab": {
      "provenance": [],
      "include_colab_link": true
    },
    "kernelspec": {
      "name": "python3",
      "display_name": "Python 3"
    },
    "language_info": {
      "name": "python"
    }
  },
  "cells": [
    {
      "cell_type": "markdown",
      "metadata": {
        "id": "view-in-github",
        "colab_type": "text"
      },
      "source": [
        "<a href=\"https://colab.research.google.com/github/ramun9533/Practicas_Python/blob/main/Ch14_Clases_OPP.ipynb\" target=\"_parent\"><img src=\"https://colab.research.google.com/assets/colab-badge.svg\" alt=\"Open In Colab\"/></a>"
      ]
    },
    {
      "cell_type": "code",
      "execution_count": null,
      "metadata": {
        "colab": {
          "base_uri": "https://localhost:8080/"
        },
        "id": "_zpU39r2J6R_",
        "outputId": "0af7b643-96fb-4bd1-9a98-2bbbb7befc42"
      },
      "outputs": [
        {
          "output_type": "execute_result",
          "data": {
            "text/plain": [
              "int"
            ]
          },
          "metadata": {},
          "execution_count": 1
        }
      ],
      "source": [
        "type(1)"
      ]
    },
    {
      "cell_type": "code",
      "source": [
        "# help(1)"
      ],
      "metadata": {
        "id": "vs_ry_cSKWCM"
      },
      "execution_count": null,
      "outputs": []
    },
    {
      "cell_type": "markdown",
      "source": [
        "# Clase Libro"
      ],
      "metadata": {
        "id": "k7hFli62KtNi"
      }
    },
    {
      "cell_type": "code",
      "source": [
        "libro = {\n",
        "  \"Autor\": \"Edgar Allan Poe\",\n",
        "  \"Titulo\": \"El cuervo\",\n",
        "  \"Genero\": \"Terror\",\n",
        "  \"Anio\": 1845,\n",
        "  \"Tematica\": \"Locura\"\n",
        "}"
      ],
      "metadata": {
        "id": "bUjFFv-IKZge"
      },
      "execution_count": null,
      "outputs": []
    },
    {
      "cell_type": "code",
      "source": [
        "type(libro)"
      ],
      "metadata": {
        "colab": {
          "base_uri": "https://localhost:8080/"
        },
        "id": "1XiULWl7K1dW",
        "outputId": "67f73452-aa08-4288-b489-4cdd43be17d6"
      },
      "execution_count": null,
      "outputs": [
        {
          "output_type": "execute_result",
          "data": {
            "text/plain": [
              "dict"
            ]
          },
          "metadata": {},
          "execution_count": 5
        }
      ]
    },
    {
      "cell_type": "code",
      "source": [
        "libro[\"Autor\"]"
      ],
      "metadata": {
        "colab": {
          "base_uri": "https://localhost:8080/",
          "height": 36
        },
        "id": "IzE-mYt9K28M",
        "outputId": "3212b62b-5508-4e74-c330-b96fcbe98406"
      },
      "execution_count": null,
      "outputs": [
        {
          "output_type": "execute_result",
          "data": {
            "text/plain": [
              "'Edgar Allan Poe'"
            ],
            "application/vnd.google.colaboratory.intrinsic+json": {
              "type": "string"
            }
          },
          "metadata": {},
          "execution_count": 6
        }
      ]
    },
    {
      "cell_type": "code",
      "source": [
        "# El método espcial __init__ es llamado cada vez que un objeto\n",
        "# es creado\n",
        "\n",
        "class Libro:\n",
        "  def __init__(Libro, autor, titulo, anio): # self es igual Libro\n",
        "    print(\"Hola, me estoy imprimiendo\")\n",
        "    Libro.autor = autor\n",
        "    Libro.titulo = titulo\n",
        "    Libro.anio = anio"
      ],
      "metadata": {
        "id": "zfKx5iN2K9DF"
      },
      "execution_count": null,
      "outputs": []
    },
    {
      "cell_type": "code",
      "source": [
        "libro = Libro(\"Edgar Allan Poe\", \"El Cuervo\", 1845)"
      ],
      "metadata": {
        "colab": {
          "base_uri": "https://localhost:8080/"
        },
        "id": "vVwHCebYLMPe",
        "outputId": "3b4f68b1-d38a-4f56-f9ba-a8aaf1ab15f7"
      },
      "execution_count": null,
      "outputs": [
        {
          "output_type": "stream",
          "name": "stdout",
          "text": [
            "Hola, me estoy imprimiendo\n"
          ]
        }
      ]
    },
    {
      "cell_type": "code",
      "source": [
        "libro.anio"
      ],
      "metadata": {
        "colab": {
          "base_uri": "https://localhost:8080/"
        },
        "id": "txK7_SH6Mex1",
        "outputId": "675c4429-adde-49bd-fce2-5b54dc854e1b"
      },
      "execution_count": null,
      "outputs": [
        {
          "output_type": "execute_result",
          "data": {
            "text/plain": [
              "1845"
            ]
          },
          "metadata": {},
          "execution_count": 53
        }
      ]
    },
    {
      "cell_type": "code",
      "source": [
        "class Rectangulo:\n",
        "  pass\n",
        "\n",
        "# Aquí son funciones\n",
        "def area(longitud, ancho):\n",
        "  return longitud * ancho\n",
        "\n",
        "def perimetro(longitud, ancho):\n",
        "  return 2 * (longitud + ancho)\n",
        "\n",
        "def es_circulo(self, diametro):\n",
        "  pass"
      ],
      "metadata": {
        "id": "8JSEzqaoNKcy"
      },
      "execution_count": null,
      "outputs": []
    },
    {
      "cell_type": "code",
      "source": [
        "class Rectangulo:\n",
        "  def __init__(self, longitud, ancho):\n",
        "    # Creando atributos de clase\n",
        "    self.longitud = longitud\n",
        "    self.ancho = ancho\n",
        "    if self.es_cuadrado():\n",
        "      print(\"ERROR: Es cuadrado\")\n",
        "\n",
        "  # Aquí son métodos\n",
        "  def area(self):\n",
        "    return self.longitud * self.ancho\n",
        "\n",
        "  def perimetro(self):\n",
        "    return 2 * (self.longitud + self.ancho)\n",
        "\n",
        "  def es_cuadrado(self):\n",
        "    return self.longitud == self.ancho"
      ],
      "metadata": {
        "id": "Pw8L-_YvNTww"
      },
      "execution_count": null,
      "outputs": []
    },
    {
      "cell_type": "code",
      "source": [
        "mi_rectangulo = Rectangulo(5, 5)"
      ],
      "metadata": {
        "colab": {
          "base_uri": "https://localhost:8080/"
        },
        "id": "h92lS_lLNWvz",
        "outputId": "1c57902c-f563-45e3-c43f-85dde385650f"
      },
      "execution_count": null,
      "outputs": [
        {
          "output_type": "stream",
          "name": "stdout",
          "text": [
            "ERROR: Es cuadrado\n"
          ]
        }
      ]
    },
    {
      "cell_type": "code",
      "source": [
        "mi_rectangulo.perimetro()"
      ],
      "metadata": {
        "colab": {
          "base_uri": "https://localhost:8080/"
        },
        "id": "wwclHNNnNuCr",
        "outputId": "1c63c7e6-7a6a-49aa-ae39-aee0cbcda88e"
      },
      "execution_count": null,
      "outputs": [
        {
          "output_type": "execute_result",
          "data": {
            "text/plain": [
              "20"
            ]
          },
          "metadata": {},
          "execution_count": 43
        }
      ]
    },
    {
      "cell_type": "code",
      "source": [
        "mi_rectangulo.es_cuadrado()"
      ],
      "metadata": {
        "colab": {
          "base_uri": "https://localhost:8080/"
        },
        "id": "rQF8Dr9KORuC",
        "outputId": "fe33998e-28de-46c0-a525-3433c7837b89"
      },
      "execution_count": null,
      "outputs": [
        {
          "output_type": "execute_result",
          "data": {
            "text/plain": [
              "True"
            ]
          },
          "metadata": {},
          "execution_count": 44
        }
      ]
    },
    {
      "cell_type": "markdown",
      "source": [
        "# Actividad\n",
        "\n",
        "Crear la clase **Galleta**, la cual reciba los siguiente argumentos:\n",
        "\n",
        "- sabor: string\n",
        "- diametro: float\n",
        "- chispas: bool\n",
        "\n",
        "La clase deberá regresar el peso de la galleta. Una galleta Oreo mide 4.4 cm de diametro con un peso de 11 g.\n",
        "\n",
        "Si la galleta tiene chispas, añade 2 gr al peso final.\n",
        "\n",
        "Ejemplo: Una galleta con chispas y un diametro de 4.4 cm, pesará 13 gr"
      ],
      "metadata": {
        "id": "4yB-n7GlQ1bX"
      }
    },
    {
      "cell_type": "code",
      "source": [],
      "metadata": {
        "id": "xS88vVUtOmKb"
      },
      "execution_count": null,
      "outputs": []
    }
  ]
}