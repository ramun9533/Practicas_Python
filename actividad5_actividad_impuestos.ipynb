{
  "nbformat": 4,
  "nbformat_minor": 0,
  "metadata": {
    "colab": {
      "provenance": [],
      "authorship_tag": "ABX9TyO+A4py8fJ9wmV0Pv2jYrYH",
      "include_colab_link": true
    },
    "kernelspec": {
      "name": "python3",
      "display_name": "Python 3"
    },
    "language_info": {
      "name": "python"
    }
  },
  "cells": [
    {
      "cell_type": "markdown",
      "metadata": {
        "id": "view-in-github",
        "colab_type": "text"
      },
      "source": [
        "<a href=\"https://colab.research.google.com/github/ramun9533/Practicas_Python/blob/main/actividad5_actividad_impuestos.ipynb\" target=\"_parent\"><img src=\"https://colab.research.google.com/assets/colab-badge.svg\" alt=\"Open In Colab\"/></a>"
      ]
    },
    {
      "cell_type": "code",
      "execution_count": null,
      "metadata": {
        "colab": {
          "base_uri": "https://localhost:8080/"
        },
        "id": "MWrKYJ0NIdb8",
        "outputId": "d5b739d2-9746-4c3b-dac7-33d4ef48310e"
      },
      "outputs": [
        {
          "output_type": "stream",
          "name": "stdout",
          "text": [
            "Me puedes dar la cantidad de tus ingresos: 3001\n",
            "Tus impuestos son 900.3   Tu sueldo despues de impuesto es :  2100.7\n"
          ]
        }
      ],
      "source": [
        "from traitlets.traitlets import Float\n",
        "import pandas as pd\n",
        "pd.DataFrame(columns=['Ingresos', 'Tasa impositiva'],\n",
        "             index=[1, 2, 3, 4],\n",
        "             data=[['Menos de 1,000', '5 %'],\n",
        "                   ['Entre 1,000 y 2,000', '15 %'],\n",
        "                   ['Entre 2,000 y 3,000', '20 %'],\n",
        "                   ['Más de 3,000', '30 %']])\n",
        "sueldo = float(input('Me puedes dar la cantidad de tus ingresos: '))\n",
        "if (sueldo < 1000):\n",
        "  impuesto = sueldo * 0.05\n",
        "  print('Tus impuestos son', impuesto,'  Tu sueldo despues de impuesto es : ', sueldo - impuesto)\n",
        "elif (sueldo >= 1000 and sueldo <= 2000):\n",
        "  impuesto = sueldo * 0.15\n",
        "  print('Tus impuestos son', impuesto,'  Tu sueldo despues de impuesto es : ', sueldo - impuesto)\n",
        "elif (sueldo >= 2000 and sueldo <= 3000):\n",
        "  impuesto = sueldo * 0.2\n",
        "  print('Tus impuestos son', impuesto,'  Tu sueldo despues de impuesto es : ', sueldo - impuesto)\n",
        "else:\n",
        "  impuesto = sueldo * 0.3\n",
        "  print('Tus impuestos son', impuesto,'  Tu sueldo despues de impuesto es : ', sueldo - impuesto)"
      ]
    }
  ]
}