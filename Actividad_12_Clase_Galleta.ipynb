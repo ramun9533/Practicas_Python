{
  "nbformat": 4,
  "nbformat_minor": 0,
  "metadata": {
    "colab": {
      "provenance": [],
      "authorship_tag": "ABX9TyNG+N9fhUIC08z3fu+kzrqx",
      "include_colab_link": true
    },
    "kernelspec": {
      "name": "python3",
      "display_name": "Python 3"
    },
    "language_info": {
      "name": "python"
    }
  },
  "cells": [
    {
      "cell_type": "markdown",
      "metadata": {
        "id": "view-in-github",
        "colab_type": "text"
      },
      "source": [
        "<a href=\"https://colab.research.google.com/github/ramun9533/Practicas_Python/blob/main/Actividad_12_Clase_Galleta.ipynb\" target=\"_parent\"><img src=\"https://colab.research.google.com/assets/colab-badge.svg\" alt=\"Open In Colab\"/></a>"
      ]
    },
    {
      "cell_type": "code",
      "execution_count": 30,
      "metadata": {
        "id": "vQJs6zIvVOf-"
      },
      "outputs": [],
      "source": [
        "class Galleta:\n",
        "  def __init__(self, sabor, diametro, chispas): # self es igual Libro\n",
        "    print(\"Hola, me estoy imprimiendo\")\n",
        "    self.sabor = sabor\n",
        "    self.diametro = diametro\n",
        "    self.chispas = chispas\n",
        "\n",
        "  #def es_chispas(self):\n",
        "  #  if self.chispas == True:\n",
        "   #     self.peso = self.peso + 2\n",
        "    #return self.peso\n",
        "  def calculo_peso(self):\n",
        "    peso = 11\n",
        "    int(peso)\n",
        "    if self.chispas == True:\n",
        "      peso = peso + 2\n",
        "      return peso\n",
        "    if self.chispas == False:\n",
        "      return peso\n",
        "    #- sabor: string\n",
        "#- diametro: float\n",
        "#- chispas: bool"
      ]
    },
    {
      "cell_type": "code",
      "source": [
        "mi_galleta = Galleta('Vainilla', 4.4, False)"
      ],
      "metadata": {
        "colab": {
          "base_uri": "https://localhost:8080/"
        },
        "id": "CDfhVGlrVqnZ",
        "outputId": "8c7aae07-485c-4b76-a50f-d10bc81f1185"
      },
      "execution_count": 34,
      "outputs": [
        {
          "output_type": "stream",
          "name": "stdout",
          "text": [
            "Hola, me estoy imprimiendo\n"
          ]
        }
      ]
    },
    {
      "cell_type": "code",
      "source": [
        "mi_galleta.calculo_peso()"
      ],
      "metadata": {
        "colab": {
          "base_uri": "https://localhost:8080/"
        },
        "id": "rXQqe94DaEZt",
        "outputId": "c9ee5e32-ba23-4165-d068-94f8011f3665"
      },
      "execution_count": 35,
      "outputs": [
        {
          "output_type": "execute_result",
          "data": {
            "text/plain": [
              "11"
            ]
          },
          "metadata": {},
          "execution_count": 35
        }
      ]
    },
    {
      "cell_type": "code",
      "source": [
        "mi_galleta."
      ],
      "metadata": {
        "id": "3TENKwBgXQBL"
      },
      "execution_count": null,
      "outputs": []
    }
  ]
}