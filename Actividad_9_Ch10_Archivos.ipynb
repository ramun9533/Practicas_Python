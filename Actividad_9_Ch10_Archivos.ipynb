{
  "nbformat": 4,
  "nbformat_minor": 0,
  "metadata": {
    "colab": {
      "provenance": [],
      "authorship_tag": "ABX9TyOWixM9+3X3OZrzrygNykfU",
      "include_colab_link": true
    },
    "kernelspec": {
      "name": "python3",
      "display_name": "Python 3"
    },
    "language_info": {
      "name": "python"
    }
  },
  "cells": [
    {
      "cell_type": "markdown",
      "metadata": {
        "id": "view-in-github",
        "colab_type": "text"
      },
      "source": [
        "<a href=\"https://colab.research.google.com/github/ramun9533/Practicas_Python/blob/main/Actividad_9_Ch10_Archivos.ipynb\" target=\"_parent\"><img src=\"https://colab.research.google.com/assets/colab-badge.svg\" alt=\"Open In Colab\"/></a>"
      ]
    },
    {
      "cell_type": "code",
      "execution_count": 37,
      "metadata": {
        "id": "610ll-qdBUtZ",
        "outputId": "9956dcf6-09a4-4181-8955-c59b648e3e95",
        "colab": {
          "base_uri": "https://localhost:8080/"
        }
      },
      "outputs": [
        {
          "output_type": "stream",
          "name": "stdout",
          "text": [
            "concurso.txt  quijote.txt  sample_data\tsemaforo.txt\n"
          ]
        }
      ],
      "source": [
        "!ls"
      ]
    },
    {
      "cell_type": "code",
      "source": [
        "from collections import OrderedDict, Counter\n",
        "import re\n",
        "file = 'quijote.txt'\n",
        "with open(file) as f:\n",
        "    data = f.read()\n",
        "def contar_frecuencia_palabras(data):\n",
        "    # Obtener todas las palabras del texto en minúsculas\n",
        "     palabras = data.lower().split(' ')\n",
        "     #hay que segurarse de cambiar todas las variables involucradas\n",
        "     contador_palabras = Counter(palabras)\n",
        "     # Usar Counter para contar la frecuencia de las palabras\n",
        "     return contador_palabras\n",
        "\n",
        "def palabras_mas_comunes(contador_palabras, n = 20):\n",
        "    # Usar OrderedDict para obtener las palabras más comunes en orden\n",
        "    palabras_comunes = OrderedDict(contador_palabras.most_common(n))\n",
        "\n",
        "    return palabras_comunes\n",
        "\n",
        "contador = contar_frecuencia_palabras(data)\n",
        "palabras_comunes = palabras_mas_comunes(contador)\n",
        "\n",
        "print(\"Las palabras más comunes son:\")\n",
        "for palabra, frecuencia in palabras_comunes.items():\n",
        "    print(f\"{palabra}: {frecuencia}\")"
      ],
      "metadata": {
        "id": "Dft98VfYDgBX",
        "outputId": "80a87fbb-e391-4cfc-9adb-698c9c6e21d5",
        "colab": {
          "base_uri": "https://localhost:8080/"
        }
      },
      "execution_count": 44,
      "outputs": [
        {
          "output_type": "stream",
          "name": "stdout",
          "text": [
            "Las palabras más comunes son:\n",
            "que: 8795\n",
            "de: 7786\n",
            "y: 6892\n",
            "la: 4289\n",
            "a: 4221\n",
            "en: 3497\n",
            "el: 3327\n",
            "no: 2503\n",
            "se: 2057\n",
            "los: 1804\n",
            "con: 1755\n",
            "por: 1657\n",
            "lo: 1590\n",
            "su: 1553\n",
            "le: 1525\n",
            ": 1268\n",
            "las: 1257\n",
            "del: 987\n",
            "me: 985\n",
            "como: 977\n"
          ]
        }
      ]
    },
    {
      "cell_type": "code",
      "source": [
        "type(data)\n"
      ],
      "metadata": {
        "id": "I54ZZKxOYdgN",
        "outputId": "9ef441e4-fb01-4752-ec39-4de59bad729f",
        "colab": {
          "base_uri": "https://localhost:8080/"
        }
      },
      "execution_count": 25,
      "outputs": [
        {
          "output_type": "execute_result",
          "data": {
            "text/plain": [
              "str"
            ]
          },
          "metadata": {},
          "execution_count": 25
        }
      ]
    }
  ]
}