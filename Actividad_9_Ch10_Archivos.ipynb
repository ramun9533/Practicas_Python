{
  "nbformat": 4,
  "nbformat_minor": 0,
  "metadata": {
    "colab": {
      "provenance": [],
      "authorship_tag": "ABX9TyNrm9KjynGzsazX3IrM3vc9",
      "include_colab_link": true
    },
    "kernelspec": {
      "name": "python3",
      "display_name": "Python 3"
    },
    "language_info": {
      "name": "python"
    }
  },
  "cells": [
    {
      "cell_type": "markdown",
      "metadata": {
        "id": "view-in-github",
        "colab_type": "text"
      },
      "source": [
        "<a href=\"https://colab.research.google.com/github/ramun9533/Practicas_Python/blob/main/Actividad_9_Ch10_Archivos.ipynb\" target=\"_parent\"><img src=\"https://colab.research.google.com/assets/colab-badge.svg\" alt=\"Open In Colab\"/></a>"
      ]
    },
    {
      "cell_type": "code",
      "execution_count": 37,
      "metadata": {
        "id": "610ll-qdBUtZ",
        "colab": {
          "base_uri": "https://localhost:8080/"
        },
        "outputId": "9956dcf6-09a4-4181-8955-c59b648e3e95"
      },
      "outputs": [
        {
          "output_type": "stream",
          "name": "stdout",
          "text": [
            "concurso.txt  quijote.txt  sample_data\tsemaforo.txt\n"
          ]
        }
      ],
      "source": [
        "!ls"
      ]
    },
    {
      "cell_type": "code",
      "source": [
        "from collections import OrderedDict, Counter\n",
        "import re\n",
        "file = 'quijote.txt'\n",
        "with open(file) as f:\n",
        "    data = f.read()\n",
        "def contar_frecuencia_palabras(data):\n",
        "    # Obtener todas las palabras del texto en minúsculas\n",
        "     palabras = data.lower().split()\n",
        "     #hay que segurarse de cambiar todas las variables involucradas\n",
        "     contador_palabras = Counter(palabras)\n",
        "     # Usar Counter para contar la frecuencia de las palabras\n",
        "     return contador_palabras\n",
        "\n",
        "def palabras_mas_comunes(contador_palabras, n = 20):\n",
        "    # Usar OrderedDict para obtener las palabras más comunes en orden\n",
        "    palabras_comunes = OrderedDict(contador_palabras.most_common(n))\n",
        "\n",
        "    return palabras_comunes\n",
        "\n",
        "contador = contar_frecuencia_palabras(data)\n",
        "palabras_comunes = palabras_mas_comunes(contador)\n",
        "\n",
        "print(\"Las palabras más comunes son:\")\n",
        "for palabra, frecuencia in palabras_comunes.items():\n",
        "    print(f\"{palabra}: {frecuencia}\")"
      ],
      "metadata": {
        "colab": {
          "base_uri": "https://localhost:8080/"
        },
        "id": "Dft98VfYDgBX",
        "outputId": "609f45fd-a221-4b24-d340-dd3d809cb30e"
      },
      "execution_count": 45,
      "outputs": [
        {
          "output_type": "stream",
          "name": "stdout",
          "text": [
            "Las palabras más comunes son:\n",
            "que: 9905\n",
            "de: 8803\n",
            "y: 7682\n",
            "la: 4937\n",
            "a: 4709\n",
            "en: 3948\n",
            "el: 3784\n",
            "no: 2813\n",
            "se: 2343\n",
            "los: 2117\n",
            "con: 2019\n",
            "por: 1881\n",
            "su: 1814\n",
            "le: 1770\n",
            "lo: 1763\n",
            "las: 1490\n",
            "me: 1134\n",
            "del: 1128\n",
            "como: 1121\n",
            "don: 1046\n"
          ]
        }
      ]
    },
    {
      "cell_type": "code",
      "source": [
        "type(data)\n"
      ],
      "metadata": {
        "colab": {
          "base_uri": "https://localhost:8080/"
        },
        "id": "I54ZZKxOYdgN",
        "outputId": "9ef441e4-fb01-4752-ec39-4de59bad729f"
      },
      "execution_count": 25,
      "outputs": [
        {
          "output_type": "execute_result",
          "data": {
            "text/plain": [
              "str"
            ]
          },
          "metadata": {},
          "execution_count": 25
        }
      ]
    }
  ]
}