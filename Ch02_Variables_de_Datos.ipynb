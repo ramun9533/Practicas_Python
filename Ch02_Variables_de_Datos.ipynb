{
  "nbformat": 4,
  "nbformat_minor": 0,
  "metadata": {
    "colab": {
      "provenance": [],
      "authorship_tag": "ABX9TyPwo7pJidrc6IcghOR7NW1R",
      "include_colab_link": true
    },
    "kernelspec": {
      "name": "python3",
      "display_name": "Python 3"
    },
    "language_info": {
      "name": "python"
    }
  },
  "cells": [
    {
      "cell_type": "markdown",
      "metadata": {
        "id": "view-in-github",
        "colab_type": "text"
      },
      "source": [
        "<a href=\"https://colab.research.google.com/github/ramun9533/Practicas_Python/blob/main/Ch02_Variables_de_Datos.ipynb\" target=\"_parent\"><img src=\"https://colab.research.google.com/assets/colab-badge.svg\" alt=\"Open In Colab\"/></a>"
      ]
    },
    {
      "cell_type": "markdown",
      "source": [
        "Autor: William Orta\n",
        "Curso: python de basico a intermedio\n"
      ],
      "metadata": {
        "id": "STeI_P121sZi"
      }
    },
    {
      "cell_type": "markdown",
      "source": [
        "2.1 Tipos de Datos"
      ],
      "metadata": {
        "id": "tfwSoZ0K2AI8"
      }
    },
    {
      "cell_type": "code",
      "source": [],
      "metadata": {
        "id": "4393UZcA4Lqz"
      },
      "execution_count": null,
      "outputs": []
    }
  ]
}