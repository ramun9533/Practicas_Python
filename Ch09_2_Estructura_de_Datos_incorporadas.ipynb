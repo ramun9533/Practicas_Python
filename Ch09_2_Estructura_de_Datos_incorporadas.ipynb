{
  "cells": [
    {
      "cell_type": "markdown",
      "metadata": {
        "id": "view-in-github",
        "colab_type": "text"
      },
      "source": [
        "<a href=\"https://colab.research.google.com/github/ramun9533/Practicas_Python/blob/main/Ch09_2_Estructura_de_Datos_incorporadas.ipynb\" target=\"_parent\"><img src=\"https://colab.research.google.com/assets/colab-badge.svg\" alt=\"Open In Colab\"/></a>"
      ]
    },
    {
      "cell_type": "markdown",
      "metadata": {
        "id": "MkRZEwFNkyBi"
      },
      "source": [
        "# Built-in Data Structures and Collections\n",
        "<a href=\"https://colab.research.google.com/github/rambasnet/FDSPython-Notebooks/blob/master/Ch09-2-Built-in-DataStructures.ipynb\" target=\"_parent\"><img src=\"https://colab.research.google.com/assets/colab-badge.svg\" alt=\"Open In Colab\"/></a>"
      ]
    },
    {
      "cell_type": "markdown",
      "source": [
        "##Recordando un poco de operaciones con listas"
      ],
      "metadata": {
        "id": "yRxop55h2_Ls"
      }
    },
    {
      "cell_type": "code",
      "source": [
        "# Operación 'append': Agregar un elemento al final de la lista\n",
        "frutas = ['manzana', 'naranja', 'plátano']\n",
        "frutas.append('mango')\n",
        "print(frutas)\n"
      ],
      "metadata": {
        "colab": {
          "base_uri": "https://localhost:8080/"
        },
        "id": "zMgGGnvw29jF",
        "outputId": "168c2a63-754c-4032-ace7-183e2ddbf80a"
      },
      "execution_count": null,
      "outputs": [
        {
          "output_type": "stream",
          "name": "stdout",
          "text": [
            "['manzana', 'naranja', 'plátano', 'mango']\n"
          ]
        }
      ]
    },
    {
      "cell_type": "code",
      "source": [
        "# Operación 'extend': Extender una lista agregando elementos de otra lista\n",
        "frutas_adicionales = ['pera', 'uva']\n",
        "frutas.extend(frutas_adicionales)\n",
        "print(frutas)\n"
      ],
      "metadata": {
        "colab": {
          "base_uri": "https://localhost:8080/"
        },
        "id": "gIxU7D5r3Ih9",
        "outputId": "364779a5-ed56-4131-e3cc-9df876d0d5b1"
      },
      "execution_count": null,
      "outputs": [
        {
          "output_type": "stream",
          "name": "stdout",
          "text": [
            "['manzana', 'naranja', 'plátano', 'mango', 'pera', 'uva']\n"
          ]
        }
      ]
    },
    {
      "cell_type": "code",
      "source": [
        "# Operación 'insert': Insertar un elemento en una posición específica\n",
        "frutas.insert(2, 'kiwi')\n",
        "print(frutas)\n"
      ],
      "metadata": {
        "colab": {
          "base_uri": "https://localhost:8080/"
        },
        "id": "vEyT_Pip3N33",
        "outputId": "08926a9a-c8c2-4ad1-951e-060c8cb64d0b"
      },
      "execution_count": null,
      "outputs": [
        {
          "output_type": "stream",
          "name": "stdout",
          "text": [
            "['manzana', 'naranja', 'kiwi', 'plátano', 'mango', 'pera', 'uva']\n"
          ]
        }
      ]
    },
    {
      "cell_type": "code",
      "source": [
        "# Operación 'remove': Eliminar el primer elemento de la lista que coincida con un valor dado\n",
        "frutas.remove('plátano')\n",
        "print(frutas)"
      ],
      "metadata": {
        "colab": {
          "base_uri": "https://localhost:8080/"
        },
        "id": "ZUay4_063Tak",
        "outputId": "8015f2bb-b685-4455-b1eb-da8ae77af91f"
      },
      "execution_count": null,
      "outputs": [
        {
          "output_type": "stream",
          "name": "stdout",
          "text": [
            "['manzana', 'naranja', 'kiwi', 'mango', 'pera', 'uva']\n"
          ]
        }
      ]
    },
    {
      "cell_type": "code",
      "source": [
        "# Operación 'pop': Eliminar y devolver el elemento en una posición específica\n",
        "fruta_eliminada = frutas.pop(2)\n",
        "print(\"Fruta eliminada:\", fruta_eliminada)\n",
        "print(frutas)"
      ],
      "metadata": {
        "colab": {
          "base_uri": "https://localhost:8080/"
        },
        "id": "YPZMYzMZ3dn5",
        "outputId": "208b917a-8562-4e7c-969b-2b2ad1bf8d1e"
      },
      "execution_count": null,
      "outputs": [
        {
          "output_type": "stream",
          "name": "stdout",
          "text": [
            "Fruta eliminada: kiwi\n",
            "['manzana', 'naranja', 'mango', 'pera', 'uva']\n"
          ]
        }
      ]
    },
    {
      "cell_type": "code",
      "source": [
        "frutas = ['manzana', 'naranja', 'plátano', 'mango', 'pera', 'uva']\n",
        "\n",
        "# Obtener un subconjunto de la lista utilizando slicing\n",
        "subconjunto1 = frutas[1:4]  # Desde el índice 1 (inclusive) hasta el índice 4 (exclusivo)\n",
        "print(subconjunto1)\n",
        "subconjunto2 = frutas[:3]  # Desde el inicio hasta el índice 3 (exclusivo)\n",
        "print(subconjunto2)\n",
        "subconjunto3 = frutas[3:]  # Desde el índice 3 (inclusive) hasta el final\n",
        "print(subconjunto3)\n",
        "subconjunto4 = frutas[::2]  # Desde el inicio hasta el final con un paso de 2\n",
        "print(subconjunto4)"
      ],
      "metadata": {
        "colab": {
          "base_uri": "https://localhost:8080/"
        },
        "id": "r_bBYMye4EEY",
        "outputId": "e2cd15d4-cc51-4f90-d7da-c53ae50c7295"
      },
      "execution_count": null,
      "outputs": [
        {
          "output_type": "stream",
          "name": "stdout",
          "text": [
            "['naranja', 'plátano', 'mango']\n",
            "['manzana', 'naranja', 'plátano']\n",
            "['mango', 'pera', 'uva']\n",
            "['manzana', 'plátano', 'pera']\n"
          ]
        }
      ]
    },
    {
      "cell_type": "markdown",
      "metadata": {
        "id": "cwmghP_CkyBk"
      },
      "source": [
        "- Todas las funciones integradas se enumeran aquí con ejemplos: https://docs.python.org/3/library/functions.html\n",
        "\n",
        "\n",
        "## Función built-in ** zip() **  \n",
        "- La función zip incorporada puede ayudarnos a crear rápidamente una lista de tuplas y luego un diccionario"
      ]
    },
    {
      "cell_type": "code",
      "execution_count": null,
      "metadata": {
        "colab": {
          "base_uri": "https://localhost:8080/"
        },
        "id": "ejzgrWRmkyBk",
        "outputId": "dff69131-5619-4c64-a4e2-2364641e85e6"
      },
      "outputs": [
        {
          "output_type": "stream",
          "name": "stdout",
          "text": [
            "Help on class zip in module builtins:\n",
            "\n",
            "class zip(object)\n",
            " |  zip(*iterables, strict=False) --> Yield tuples until an input is exhausted.\n",
            " |  \n",
            " |     >>> list(zip('abcdefg', range(3), range(4)))\n",
            " |     [('a', 0, 0), ('b', 1, 1), ('c', 2, 2)]\n",
            " |  \n",
            " |  The zip object yields n-length tuples, where n is the number of iterables\n",
            " |  passed as positional arguments to zip().  The i-th element in every tuple\n",
            " |  comes from the i-th iterable argument to zip().  This continues until the\n",
            " |  shortest argument is exhausted.\n",
            " |  \n",
            " |  If strict is true and one of the arguments is exhausted before the others,\n",
            " |  raise a ValueError.\n",
            " |  \n",
            " |  Methods defined here:\n",
            " |  \n",
            " |  __getattribute__(self, name, /)\n",
            " |      Return getattr(self, name).\n",
            " |  \n",
            " |  __iter__(self, /)\n",
            " |      Implement iter(self).\n",
            " |  \n",
            " |  __next__(self, /)\n",
            " |      Implement next(self).\n",
            " |  \n",
            " |  __reduce__(...)\n",
            " |      Return state information for pickling.\n",
            " |  \n",
            " |  __setstate__(...)\n",
            " |      Set state information for unpickling.\n",
            " |  \n",
            " |  ----------------------------------------------------------------------\n",
            " |  Static methods defined here:\n",
            " |  \n",
            " |  __new__(*args, **kwargs) from builtins.type\n",
            " |      Create and return a new object.  See help(type) for accurate signature.\n",
            "\n"
          ]
        }
      ],
      "source": [
        "help(zip)"
      ]
    },
    {
      "cell_type": "code",
      "execution_count": null,
      "metadata": {
        "id": "s757yz8UkyBm"
      },
      "outputs": [],
      "source": [
        "zdata = zip([1, 2, 3], ('a', 'b', 'c'))"
      ]
    },
    {
      "cell_type": "code",
      "execution_count": null,
      "metadata": {
        "id": "O8xaEQBmkyBn"
      },
      "outputs": [],
      "source": [
        "alist = list(zdata)"
      ]
    },
    {
      "cell_type": "code",
      "execution_count": null,
      "metadata": {
        "colab": {
          "base_uri": "https://localhost:8080/"
        },
        "id": "jRCkiHTbkyBn",
        "outputId": "1b4ec34c-abdc-40f1-ec81-a9641394be8c"
      },
      "outputs": [
        {
          "output_type": "execute_result",
          "data": {
            "text/plain": [
              "[(1, 'a'), (2, 'b'), (3, 'c')]"
            ]
          },
          "metadata": {},
          "execution_count": 117
        }
      ],
      "source": [
        "alist"
      ]
    },
    {
      "cell_type": "code",
      "execution_count": null,
      "metadata": {
        "colab": {
          "base_uri": "https://localhost:8080/"
        },
        "id": "Wd_cOr7WkyBn",
        "outputId": "2308e453-d09a-498c-84cc-dbcac2ccf945"
      },
      "outputs": [
        {
          "output_type": "stream",
          "name": "stdout",
          "text": [
            "{1: 'a', 2: 'b', 3: 'c'}\n"
          ]
        }
      ],
      "source": [
        "# create dict\n",
        "adict = dict(alist)\n",
        "print(adict)"
      ]
    },
    {
      "cell_type": "markdown",
      "metadata": {
        "id": "5RmekiYzkyBo"
      },
      "source": [
        "## exercise\n",
        "Create a dict that maps lowercase alphabets to integers, e.g., a maps to 1, b maps to 2, ..., z maps to 26 and print it"
      ]
    },
    {
      "cell_type": "code",
      "execution_count": null,
      "metadata": {
        "id": "C1N8MjbVkyBo"
      },
      "outputs": [],
      "source": [
        "import string\n",
        "lettersToDigits = dict(zip(string.ascii_lowercase, range(1, 27)))"
      ]
    },
    {
      "cell_type": "code",
      "execution_count": null,
      "metadata": {
        "colab": {
          "base_uri": "https://localhost:8080/"
        },
        "id": "fkZEjWcIkyBo",
        "outputId": "1decdcc4-948b-4fdb-eff0-ef3bc2b819c8"
      },
      "outputs": [
        {
          "output_type": "stream",
          "name": "stdout",
          "text": [
            "{'a': 1, 'b': 2, 'c': 3, 'd': 4, 'e': 5, 'f': 6, 'g': 7, 'h': 8, 'i': 9, 'j': 10, 'k': 11, 'l': 12, 'm': 13, 'n': 14, 'o': 15, 'p': 16, 'q': 17, 'r': 18, 's': 19, 't': 20, 'u': 21, 'v': 22, 'w': 23, 'x': 24, 'y': 25, 'z': 26}\n"
          ]
        }
      ],
      "source": [
        "print(lettersToDigits)"
      ]
    },
    {
      "cell_type": "code",
      "source": [
        "# Crear un diccionario que mapee letras minúsculas del alfabeto a enteros\n",
        "alphabet_to_integer = {chr(96 + i): i for i in range(1, 27)}\n",
        "\n",
        "# Imprimir el diccionario\n",
        "print(alphabet_to_integer)"
      ],
      "metadata": {
        "id": "Mvr-93y7nQn9",
        "colab": {
          "base_uri": "https://localhost:8080/"
        },
        "outputId": "6ea82f8a-24b2-442c-dd66-444b979079bc"
      },
      "execution_count": null,
      "outputs": [
        {
          "output_type": "stream",
          "name": "stdout",
          "text": [
            "{'a': 1, 'b': 2, 'c': 3, 'd': 4, 'e': 5, 'f': 6, 'g': 7, 'h': 8, 'i': 9, 'j': 10, 'k': 11, 'l': 12, 'm': 13, 'n': 14, 'o': 15, 'p': 16, 'q': 17, 'r': 18, 's': 19, 't': 20, 'u': 21, 'v': 22, 'w': 23, 'x': 24, 'y': 25, 'z': 26}\n"
          ]
        }
      ]
    },
    {
      "cell_type": "code",
      "source": [
        "# Crear un diccionario que mapee letras minúsculas del alfabeto a enteros\n",
        "alfabeto_a_enteros = {chr(96 + i): i for i in range(1, 27)}\n",
        "\n",
        "# Imprimir el diccionario\n",
        "print(alfabeto_a_enteros)"
      ],
      "metadata": {
        "id": "TCU-Sbryncj6",
        "colab": {
          "base_uri": "https://localhost:8080/"
        },
        "outputId": "58ed6227-d76f-411d-adf2-9e6b435f627b"
      },
      "execution_count": null,
      "outputs": [
        {
          "output_type": "stream",
          "name": "stdout",
          "text": [
            "{'a': 1, 'b': 2, 'c': 3, 'd': 4, 'e': 5, 'f': 6, 'g': 7, 'h': 8, 'i': 9, 'j': 10, 'k': 11, 'l': 12, 'm': 13, 'n': 14, 'o': 15, 'p': 16, 'q': 17, 'r': 18, 's': 19, 't': 20, 'u': 21, 'v': 22, 'w': 23, 'x': 24, 'y': 25, 'z': 26}\n"
          ]
        }
      ]
    },
    {
      "cell_type": "markdown",
      "metadata": {
        "id": "GX2fO6M5kyBp"
      },
      "source": [
        "## Tipos de conjuntos: conjunto, conjunto congelado\n",
        "- https://docs.python.org/3/library/stdtypes.html#set\n",
        "- como objeto establecido es una colección desordenada de distintos objetos hashable\n",
        "- el conjunto es mutable\n",
        "- frozenset es inmutable\n",
        "\n"
      ]
    },
    {
      "cell_type": "code",
      "source": [
        "# Crear un conjunto normal\n",
        "conjunto_normal = {1, 2, 3}\n",
        "print(conjunto_normal)  # Salida: {1, 2, 3}\n",
        "\n",
        "# Intentar agregar un elemento al conjunto normal\n",
        "conjunto_normal.add(4)  # Funciona, el conjunto se modifica\n",
        "print(conjunto_normal)  # Salida: {1, 2, 3, 4}\n",
        "\n",
        "# Crear un frozenset\n",
        "frozenset_ejemplo = frozenset({1, 2, 3})\n",
        "print(frozenset_ejemplo)  # Salida: frozenset({1, 2, 3})\n",
        "\n",
        "# Intentar agregar un elemento al frozenset (esto dará un error)\n",
        "frozenset_ejemplo.add(4)  # Error: 'frozenset' object has no attribute 'add'"
      ],
      "metadata": {
        "colab": {
          "base_uri": "https://localhost:8080/",
          "height": 252
        },
        "id": "ABX_Y_OHn-ae",
        "outputId": "1de72ac6-e3b6-45dc-bd12-4a392bc13eaf"
      },
      "execution_count": null,
      "outputs": [
        {
          "output_type": "stream",
          "name": "stdout",
          "text": [
            "{1, 2, 3}\n",
            "{1, 2, 3, 4}\n",
            "frozenset({1, 2, 3})\n"
          ]
        },
        {
          "output_type": "error",
          "ename": "AttributeError",
          "evalue": "ignored",
          "traceback": [
            "\u001b[0;31m---------------------------------------------------------------------------\u001b[0m",
            "\u001b[0;31mAttributeError\u001b[0m                            Traceback (most recent call last)",
            "\u001b[0;32m<ipython-input-124-00ff8566c300>\u001b[0m in \u001b[0;36m<cell line: 14>\u001b[0;34m()\u001b[0m\n\u001b[1;32m     12\u001b[0m \u001b[0;34m\u001b[0m\u001b[0m\n\u001b[1;32m     13\u001b[0m \u001b[0;31m# Intentar agregar un elemento al frozenset (esto dará un error)\u001b[0m\u001b[0;34m\u001b[0m\u001b[0;34m\u001b[0m\u001b[0m\n\u001b[0;32m---> 14\u001b[0;31m \u001b[0mfrozenset_ejemplo\u001b[0m\u001b[0;34m.\u001b[0m\u001b[0madd\u001b[0m\u001b[0;34m(\u001b[0m\u001b[0;36m4\u001b[0m\u001b[0;34m)\u001b[0m  \u001b[0;31m# Error: 'frozenset' object has no attribute 'add'\u001b[0m\u001b[0;34m\u001b[0m\u001b[0;34m\u001b[0m\u001b[0m\n\u001b[0m",
            "\u001b[0;31mAttributeError\u001b[0m: 'frozenset' object has no attribute 'add'"
          ]
        }
      ]
    },
    {
      "cell_type": "code",
      "execution_count": null,
      "metadata": {
        "id": "FiKUzJWOkyBp"
      },
      "outputs": [],
      "source": [
        "# crear un conjunto de una lista\n",
        "aset = set([1, 2, 1, 3, 'hello', 'hi', 3])"
      ]
    },
    {
      "cell_type": "code",
      "execution_count": null,
      "metadata": {
        "colab": {
          "base_uri": "https://localhost:8080/"
        },
        "id": "WhdkvIGbkyBp",
        "outputId": "9653eece-ab8d-4b7f-fffb-ddd6b68f63d6"
      },
      "outputs": [
        {
          "output_type": "execute_result",
          "data": {
            "text/plain": [
              "5"
            ]
          },
          "metadata": {},
          "execution_count": 126
        }
      ],
      "source": [
        "# revisar la longitud de la lista\n",
        "\n",
        "len(aset)"
      ]
    },
    {
      "cell_type": "code",
      "execution_count": null,
      "metadata": {
        "colab": {
          "base_uri": "https://localhost:8080/"
        },
        "id": "0gAxd-CkkyBp",
        "outputId": "a48b5bbf-aff3-46f7-97ba-557872ce7f51"
      },
      "outputs": [
        {
          "output_type": "stream",
          "name": "stdout",
          "text": [
            "{1, 2, 3, 'hi', 'hello'}\n"
          ]
        }
      ],
      "source": [
        "print(aset)"
      ]
    },
    {
      "cell_type": "code",
      "execution_count": null,
      "metadata": {
        "colab": {
          "base_uri": "https://localhost:8080/"
        },
        "id": "Lwz7FTjxkyBp",
        "outputId": "c682788a-77c7-421d-848a-c35eec7a3ce9"
      },
      "outputs": [
        {
          "output_type": "execute_result",
          "data": {
            "text/plain": [
              "True"
            ]
          },
          "metadata": {},
          "execution_count": 128
        }
      ],
      "source": [
        "# membership test\n",
        "'hi' in aset"
      ]
    },
    {
      "cell_type": "code",
      "execution_count": null,
      "metadata": {
        "colab": {
          "base_uri": "https://localhost:8080/"
        },
        "id": "xJuWHMF2kyBp",
        "outputId": "9843ce38-d3bf-4821-c79a-e94ce032f846"
      },
      "outputs": [
        {
          "output_type": "execute_result",
          "data": {
            "text/plain": [
              "False"
            ]
          },
          "metadata": {},
          "execution_count": 129
        }
      ],
      "source": [
        "'Hi' in aset"
      ]
    },
    {
      "cell_type": "markdown",
      "source": [
        "En Python, \"**set**\" es un tipo de dato que representa una colección no ordenada y mutable de elementos únicos. En otras palabras, un conjunto es una colección que no admite elementos duplicados y cuyo orden no está garantizado. Los conjuntos en Python son similares a los conjuntos matemáticos y se pueden usar para realizar operaciones comunes de conjuntos como unión, intersección y diferencia.\n",
        "\n",
        "Características clave de los conjuntos en Python:\n",
        "\n",
        "- No admiten duplicados: Un conjunto no puede contener elementos duplicados. Si intentas agregar un elemento que ya está presente, no se agregaría nuevamente.\n",
        "\n",
        "- No están ordenados: Los elementos de un conjunto no tienen un orden específico. Cuando se iteran sobre un conjunto, los elementos se devuelven en un orden aparentemente aleatorio.\n",
        "\n",
        "- Son mutables: Puedes modificar un conjunto después de crearlo. Puedes agregar y eliminar elementos.\n",
        "\n",
        "- Usan llaves {} o la función set(): Puedes crear un conjunto utilizando llaves {} o la función set()."
      ],
      "metadata": {
        "id": "akUuLIilo7Of"
      }
    },
    {
      "cell_type": "code",
      "execution_count": null,
      "metadata": {
        "id": "wBPY7vOOkyBq"
      },
      "outputs": [],
      "source": [
        "# ver todos los métodos en conjunto\n",
        "#help(set)"
      ]
    },
    {
      "cell_type": "code",
      "execution_count": null,
      "metadata": {
        "id": "QLNONW8tkyBq"
      },
      "outputs": [],
      "source": [
        "aset.add(100)"
      ]
    },
    {
      "cell_type": "code",
      "execution_count": null,
      "metadata": {
        "colab": {
          "base_uri": "https://localhost:8080/"
        },
        "id": "iQ1937TCkyBq",
        "outputId": "08090a1e-f98a-4ca1-df7e-6724ef01a339"
      },
      "outputs": [
        {
          "output_type": "execute_result",
          "data": {
            "text/plain": [
              "{1, 100, 2, 3, 'hello', 'hi'}"
            ]
          },
          "metadata": {},
          "execution_count": 132
        }
      ],
      "source": [
        "aset"
      ]
    },
    {
      "cell_type": "code",
      "execution_count": null,
      "metadata": {
        "id": "4KtmLdSbkyBq"
      },
      "outputs": [],
      "source": [
        "# suma 100 nuevamente; ningún efecto ya que 100 ya es miembro de aset\n",
        "aset.add(100)"
      ]
    },
    {
      "cell_type": "code",
      "execution_count": null,
      "metadata": {
        "colab": {
          "base_uri": "https://localhost:8080/"
        },
        "id": "WNCxZRQXkyBq",
        "outputId": "d598ce2a-8743-43e5-ad42-2ca1320e1425"
      },
      "outputs": [
        {
          "output_type": "execute_result",
          "data": {
            "text/plain": [
              "{1, 100, 2, 3, 'hello', 'hi'}"
            ]
          },
          "metadata": {},
          "execution_count": 134
        }
      ],
      "source": [
        "aset"
      ]
    },
    {
      "cell_type": "code",
      "execution_count": null,
      "metadata": {
        "id": "x-hI6bnzkyBq"
      },
      "outputs": [],
      "source": [
        "bset = frozenset(aset)"
      ]
    },
    {
      "cell_type": "code",
      "execution_count": null,
      "metadata": {
        "colab": {
          "base_uri": "https://localhost:8080/"
        },
        "id": "ziJSaSu4kyBq",
        "outputId": "5a41de7e-67ba-4d0a-ee13-ca4d0f561d2d"
      },
      "outputs": [
        {
          "output_type": "execute_result",
          "data": {
            "text/plain": [
              "frozenset({1, 100, 2, 3, 'hello', 'hi'})"
            ]
          },
          "metadata": {},
          "execution_count": 136
        }
      ],
      "source": [
        "bset"
      ]
    },
    {
      "cell_type": "markdown",
      "source": [
        "En Python, \"**frozenset**\" es un tipo de dato que representa un conjunto inmutable. A diferencia de los conjuntos normales (tipo \"set\"), que son mutables y pueden cambiar su contenido, los \"frozenset\" son inmutables, lo que significa que una vez creados, no se pueden modificar, agregar ni eliminar elementos.\n",
        "\n",
        "Los \"**frozenset**\" son muy útiles cuando necesitas utilizar conjuntos como claves en un diccionario de Python, ya que los conjuntos normales no pueden ser claves debido a su mutabilidad. Al ser inmutables, los \"**frozenset**\" tienen una función hash estable, lo que los hace adecuados para su uso como claves en diccionarios.\n",
        "\n",
        "Para crear un \"**frozenset**\", se utiliza la función frozenset(). Aquí hay un ejemplo:\n",
        "\n",
        "python\n",
        "C"
      ],
      "metadata": {
        "id": "Kvdl6fu7ptEX"
      }
    },
    {
      "cell_type": "code",
      "execution_count": null,
      "metadata": {
        "id": "VQQNxQH4kyBq",
        "colab": {
          "base_uri": "https://localhost:8080/"
        },
        "outputId": "140ed290-3268-4347-b9f2-1c776e225fb9"
      },
      "outputs": [
        {
          "output_type": "stream",
          "name": "stdout",
          "text": [
            "Help on class frozenset in module builtins:\n",
            "\n",
            "class frozenset(object)\n",
            " |  frozenset() -> empty frozenset object\n",
            " |  frozenset(iterable) -> frozenset object\n",
            " |  \n",
            " |  Build an immutable unordered collection of unique elements.\n",
            " |  \n",
            " |  Methods defined here:\n",
            " |  \n",
            " |  __and__(self, value, /)\n",
            " |      Return self&value.\n",
            " |  \n",
            " |  __contains__(...)\n",
            " |      x.__contains__(y) <==> y in x.\n",
            " |  \n",
            " |  __eq__(self, value, /)\n",
            " |      Return self==value.\n",
            " |  \n",
            " |  __ge__(self, value, /)\n",
            " |      Return self>=value.\n",
            " |  \n",
            " |  __getattribute__(self, name, /)\n",
            " |      Return getattr(self, name).\n",
            " |  \n",
            " |  __gt__(self, value, /)\n",
            " |      Return self>value.\n",
            " |  \n",
            " |  __hash__(self, /)\n",
            " |      Return hash(self).\n",
            " |  \n",
            " |  __iter__(self, /)\n",
            " |      Implement iter(self).\n",
            " |  \n",
            " |  __le__(self, value, /)\n",
            " |      Return self<=value.\n",
            " |  \n",
            " |  __len__(self, /)\n",
            " |      Return len(self).\n",
            " |  \n",
            " |  __lt__(self, value, /)\n",
            " |      Return self<value.\n",
            " |  \n",
            " |  __ne__(self, value, /)\n",
            " |      Return self!=value.\n",
            " |  \n",
            " |  __or__(self, value, /)\n",
            " |      Return self|value.\n",
            " |  \n",
            " |  __rand__(self, value, /)\n",
            " |      Return value&self.\n",
            " |  \n",
            " |  __reduce__(...)\n",
            " |      Return state information for pickling.\n",
            " |  \n",
            " |  __repr__(self, /)\n",
            " |      Return repr(self).\n",
            " |  \n",
            " |  __ror__(self, value, /)\n",
            " |      Return value|self.\n",
            " |  \n",
            " |  __rsub__(self, value, /)\n",
            " |      Return value-self.\n",
            " |  \n",
            " |  __rxor__(self, value, /)\n",
            " |      Return value^self.\n",
            " |  \n",
            " |  __sizeof__(...)\n",
            " |      S.__sizeof__() -> size of S in memory, in bytes\n",
            " |  \n",
            " |  __sub__(self, value, /)\n",
            " |      Return self-value.\n",
            " |  \n",
            " |  __xor__(self, value, /)\n",
            " |      Return self^value.\n",
            " |  \n",
            " |  copy(...)\n",
            " |      Return a shallow copy of a set.\n",
            " |  \n",
            " |  difference(...)\n",
            " |      Return the difference of two or more sets as a new set.\n",
            " |      \n",
            " |      (i.e. all elements that are in this set but not the others.)\n",
            " |  \n",
            " |  intersection(...)\n",
            " |      Return the intersection of two sets as a new set.\n",
            " |      \n",
            " |      (i.e. all elements that are in both sets.)\n",
            " |  \n",
            " |  isdisjoint(...)\n",
            " |      Return True if two sets have a null intersection.\n",
            " |  \n",
            " |  issubset(...)\n",
            " |      Report whether another set contains this set.\n",
            " |  \n",
            " |  issuperset(...)\n",
            " |      Report whether this set contains another set.\n",
            " |  \n",
            " |  symmetric_difference(...)\n",
            " |      Return the symmetric difference of two sets as a new set.\n",
            " |      \n",
            " |      (i.e. all elements that are in exactly one of the sets.)\n",
            " |  \n",
            " |  union(...)\n",
            " |      Return the union of sets as a new set.\n",
            " |      \n",
            " |      (i.e. all elements that are in either set.)\n",
            " |  \n",
            " |  ----------------------------------------------------------------------\n",
            " |  Class methods defined here:\n",
            " |  \n",
            " |  __class_getitem__(...) from builtins.type\n",
            " |      See PEP 585\n",
            " |  \n",
            " |  ----------------------------------------------------------------------\n",
            " |  Static methods defined here:\n",
            " |  \n",
            " |  __new__(*args, **kwargs) from builtins.type\n",
            " |      Create and return a new object.  See help(type) for accurate signature.\n",
            "\n"
          ]
        }
      ],
      "source": [
        "help(frozenset)"
      ]
    },
    {
      "cell_type": "code",
      "source": [
        "# Crear un frozenset\n",
        "conjunto_normal = {1, 2, 3}\n",
        "frozenset_ejemplo = frozenset(conjunto_normal)\n",
        "\n",
        "print(frozenset_ejemplo)  # Salida: frozenset({1, 2, 3})\n",
        "\n",
        "# Intentar agregar un elemento al frozenset (esto dará un error)\n",
        "frozenset_ejemplo.add(4)  # Error: 'frozenset' object has no attribute 'add'"
      ],
      "metadata": {
        "colab": {
          "base_uri": "https://localhost:8080/",
          "height": 217
        },
        "id": "4WsmVufVqPZf",
        "outputId": "9ccdb4cd-af08-4764-826a-c0e760cab2f8"
      },
      "execution_count": null,
      "outputs": [
        {
          "output_type": "stream",
          "name": "stdout",
          "text": [
            "frozenset({1, 2, 3})\n"
          ]
        },
        {
          "output_type": "error",
          "ename": "AttributeError",
          "evalue": "ignored",
          "traceback": [
            "\u001b[0;31m---------------------------------------------------------------------------\u001b[0m",
            "\u001b[0;31mAttributeError\u001b[0m                            Traceback (most recent call last)",
            "\u001b[0;32m<ipython-input-139-3f8c12222d9a>\u001b[0m in \u001b[0;36m<cell line: 8>\u001b[0;34m()\u001b[0m\n\u001b[1;32m      6\u001b[0m \u001b[0;34m\u001b[0m\u001b[0m\n\u001b[1;32m      7\u001b[0m \u001b[0;31m# Intentar agregar un elemento al frozenset (esto dará un error)\u001b[0m\u001b[0;34m\u001b[0m\u001b[0;34m\u001b[0m\u001b[0m\n\u001b[0;32m----> 8\u001b[0;31m \u001b[0mfrozenset_ejemplo\u001b[0m\u001b[0;34m.\u001b[0m\u001b[0madd\u001b[0m\u001b[0;34m(\u001b[0m\u001b[0;36m4\u001b[0m\u001b[0;34m)\u001b[0m  \u001b[0;31m# Error: 'frozenset' object has no attribute 'add'\u001b[0m\u001b[0;34m\u001b[0m\u001b[0;34m\u001b[0m\u001b[0m\n\u001b[0m",
            "\u001b[0;31mAttributeError\u001b[0m: 'frozenset' object has no attribute 'add'"
          ]
        }
      ]
    },
    {
      "cell_type": "code",
      "execution_count": null,
      "metadata": {
        "id": "zflqrtA_kyBr"
      },
      "outputs": [],
      "source": [
        "intersection = bset.intersection(aset)"
      ]
    },
    {
      "cell_type": "code",
      "execution_count": null,
      "metadata": {
        "colab": {
          "base_uri": "https://localhost:8080/"
        },
        "id": "CuV_t0_hkyBr",
        "outputId": "cbd398bc-c49b-485a-cb62-cd88a25beacc"
      },
      "outputs": [
        {
          "output_type": "execute_result",
          "data": {
            "text/plain": [
              "frozenset({1, 100, 2, 3, 'hello', 'hi'})"
            ]
          },
          "metadata": {},
          "execution_count": 141
        }
      ],
      "source": [
        "intersection"
      ]
    },
    {
      "cell_type": "code",
      "execution_count": null,
      "metadata": {
        "id": "qn27RjERkyBr"
      },
      "outputs": [],
      "source": [
        "cset = aset.copy()"
      ]
    },
    {
      "cell_type": "code",
      "execution_count": null,
      "metadata": {
        "id": "ft_TPXfMkyBr"
      },
      "outputs": [],
      "source": [
        "cset.add(500)"
      ]
    },
    {
      "cell_type": "code",
      "execution_count": null,
      "metadata": {
        "colab": {
          "base_uri": "https://localhost:8080/"
        },
        "id": "20ro6dIKkyBr",
        "outputId": "9bb657a0-6af8-4e1c-d49c-c54808375caa"
      },
      "outputs": [
        {
          "output_type": "stream",
          "name": "stdout",
          "text": [
            "{1, 2, 3, 100, 'hi', 'hello'}\n"
          ]
        }
      ],
      "source": [
        "print(cset.intersection(aset))"
      ]
    },
    {
      "cell_type": "code",
      "execution_count": null,
      "metadata": {
        "colab": {
          "base_uri": "https://localhost:8080/"
        },
        "id": "ct3iKrzykyBr",
        "outputId": "d0028933-aaa5-4c14-dddd-903a69d92788"
      },
      "outputs": [
        {
          "output_type": "execute_result",
          "data": {
            "text/plain": [
              "{1, 100, 2, 3, 500, 'hello', 'hi'}"
            ]
          },
          "metadata": {},
          "execution_count": 145
        }
      ],
      "source": [
        "cset.union(aset)"
      ]
    },
    {
      "cell_type": "markdown",
      "metadata": {
        "id": "5MlD3gzxkyBs"
      },
      "source": [
        "## Collections\n",
        "https://docs.python.org/3/library/collections.html#module-collections"
      ]
    },
    {
      "cell_type": "markdown",
      "metadata": {
        "id": "s92AHJK2kyBs"
      },
      "source": [
        "## deque\n",
        "- contenedor similar a una lista con agregados rápidos y elementos emergentes en cada extremo"
      ]
    },
    {
      "cell_type": "code",
      "execution_count": null,
      "metadata": {
        "id": "6YnNJzctkyBs"
      },
      "outputs": [],
      "source": [
        "from collections import deque"
      ]
    },
    {
      "cell_type": "code",
      "execution_count": null,
      "metadata": {
        "id": "VemMkKoDkyBs"
      },
      "outputs": [],
      "source": [
        "a = deque([10, 20, 30])"
      ]
    },
    {
      "cell_type": "code",
      "execution_count": null,
      "metadata": {
        "id": "ChObzEELkyBs"
      },
      "outputs": [],
      "source": [
        "# agregue 1 al lado derecho de la cola\n",
        "a.append(1)"
      ]
    },
    {
      "cell_type": "code",
      "execution_count": null,
      "metadata": {
        "colab": {
          "base_uri": "https://localhost:8080/"
        },
        "id": "9aSHq014kyBs",
        "outputId": "2c7e592e-cd74-4616-f0ce-a4884a26eed8"
      },
      "outputs": [
        {
          "output_type": "execute_result",
          "data": {
            "text/plain": [
              "deque([10, 20, 30, 1])"
            ]
          },
          "metadata": {},
          "execution_count": 149
        }
      ],
      "source": [
        "a"
      ]
    },
    {
      "cell_type": "code",
      "execution_count": null,
      "metadata": {
        "id": "_oYrefSNkyBs"
      },
      "outputs": [],
      "source": [
        "# agregue -1 al lado izquierdo de la cola\n",
        "a.appendleft(-1)"
      ]
    },
    {
      "cell_type": "code",
      "execution_count": null,
      "metadata": {
        "colab": {
          "base_uri": "https://localhost:8080/"
        },
        "id": "A-eTN3BbkyBt",
        "outputId": "78c109d4-11fd-4918-eb43-e4e4f0470021"
      },
      "outputs": [
        {
          "output_type": "execute_result",
          "data": {
            "text/plain": [
              "deque([-1, 10, 20, 30, 1])"
            ]
          },
          "metadata": {},
          "execution_count": 151
        }
      ],
      "source": [
        "a"
      ]
    },
    {
      "cell_type": "code",
      "execution_count": null,
      "metadata": {
        "id": "6WRffmxukyBt"
      },
      "outputs": [],
      "source": [
        "#help(deque)"
      ]
    },
    {
      "cell_type": "markdown",
      "metadata": {
        "id": "QatCkIhCkyB2"
      },
      "source": [
        "## defaultdict\n",
        "\n",
        "\n",
        "En Python, **defaultdict** es una subclase que se encuentra en el módulo collections. Es una subclase de diccionario (dict) que proporciona una forma de definir un valor predeterminado para una clave que **no existe en el diccionario y que son faltantes**\n",
        "\n",
        "La principal diferencia entre un diccionario convencional (dict) y un defaultdict radica en cómo manejan las claves faltantes. En un diccionario estándar, si intentas acceder a una clave que no existe, Python generará un error KeyError. En cambio, con un defaultdict, si intentas acceder a una clave que no existe, la clase automáticamente creará esa clave y le asignará un valor predeterminado según el tipo de dato especificado al crear el defaultdict."
      ]
    },
    {
      "cell_type": "code",
      "execution_count": null,
      "metadata": {
        "id": "N0liBRfCkyB3"
      },
      "outputs": [],
      "source": [
        "from collections import defaultdict"
      ]
    },
    {
      "cell_type": "code",
      "execution_count": null,
      "metadata": {
        "id": "bhXiLl-kkyB3"
      },
      "outputs": [],
      "source": [
        "dd = defaultdict(int) # use el valor 0 para proporcionar la clave faltante"
      ]
    },
    {
      "cell_type": "code",
      "source": [
        "dd"
      ],
      "metadata": {
        "colab": {
          "base_uri": "https://localhost:8080/"
        },
        "id": "76bpAeXsxbVl",
        "outputId": "27c2dc89-7baa-40fc-9783-e0c61ebe70fb"
      },
      "execution_count": null,
      "outputs": [
        {
          "output_type": "execute_result",
          "data": {
            "text/plain": [
              "defaultdict(int, {})"
            ]
          },
          "metadata": {},
          "execution_count": 155
        }
      ]
    },
    {
      "cell_type": "code",
      "execution_count": null,
      "metadata": {
        "id": "b_pbbuYMkyB3"
      },
      "outputs": [],
      "source": [
        "# incrementar el valor de la tecla 'a' en 1\n",
        "dd['a'] += 1"
      ]
    },
    {
      "cell_type": "code",
      "execution_count": null,
      "metadata": {
        "colab": {
          "base_uri": "https://localhost:8080/"
        },
        "id": "PzzDSTmVkyB3",
        "outputId": "dac5c1ff-2431-43cb-f5af-0103a29b1c1b"
      },
      "outputs": [
        {
          "output_type": "execute_result",
          "data": {
            "text/plain": [
              "defaultdict(int, {'a': 1})"
            ]
          },
          "metadata": {},
          "execution_count": 157
        }
      ],
      "source": [
        "dd"
      ]
    },
    {
      "cell_type": "code",
      "source": [
        "from collections import defaultdict\n",
        "\n",
        "# Creamos un defaultdict con valor predeterminado de 0\n",
        "d = defaultdict(int)\n",
        "\n",
        "# Intentamos acceder a una clave que no existe\n",
        "print(d['a'])  # Salida: 0 (la clave 'a' no existe, se crea con valor predeterminado 0)\n",
        "\n",
        "# Ahora incrementamos el valor asociado a la clave 'a'\n",
        "d['a'] += 1\n",
        "print(d['a'])  # Salida: 1 (se incrementa el valor de la clave 'a')\n",
        "\n",
        "# Creamos un defaultdict con valor predeterminado de una lista vacía\n",
        "d2 = defaultdict(list)\n",
        "\n",
        "# Intentamos acceder a una clave que no existe\n",
        "print(d2['b'])  # Salida: [] (la clave 'b' no existe, se crea con una lista vacía como valor predeterminado)\n",
        "\n",
        "# Añadimos elementos a la lista asociada a la clave 'b'\n",
        "d2['b'].append(10)\n",
        "d2['b'].append(20)\n",
        "print(d2['b'])  # Salida: [10, 20] (la lista asociada a la clave 'b' tiene elementos agregados)"
      ],
      "metadata": {
        "id": "ubQXv7KJxkPu",
        "outputId": "07072144-d7b6-47c4-a924-fe791c0643c1",
        "colab": {
          "base_uri": "https://localhost:8080/"
        }
      },
      "execution_count": null,
      "outputs": [
        {
          "output_type": "stream",
          "name": "stdout",
          "text": [
            "0\n",
            "1\n",
            "[]\n",
            "[10, 20]\n"
          ]
        }
      ]
    },
    {
      "cell_type": "markdown",
      "metadata": {
        "id": "7H-mBOMAkyB4"
      },
      "source": [
        "## OrderedDict\n",
        "En Python, **OrderedDict** es una clase que se encuentra en el módulo collections. A diferencia de un diccionario convencional (dict), que es una colección no ordenada de pares clave-valor, OrderedDict es una colección que mantiene el orden de inserción de los elementos.\n",
        "\n",
        "La ventaja principal de OrderedDict es que, a diferencia de los diccionarios normales, cuando iteras sobre un OrderedDict, los elementos se devuelven en el orden en que fueron insertados, lo que garantiza que el orden de los elementos se mantenga consistente.\n",
        "\n",
        "Aquí tienes un ejemplo para comprender cómo funciona OrderedDict:"
      ]
    },
    {
      "cell_type": "code",
      "execution_count": null,
      "metadata": {
        "id": "BMFWZxiXkyB4"
      },
      "outputs": [],
      "source": [
        "from collections import OrderedDict"
      ]
    },
    {
      "cell_type": "code",
      "execution_count": null,
      "metadata": {
        "id": "3q-PVa6ZkyB4"
      },
      "outputs": [],
      "source": [
        "od = OrderedDict([(1, 'one'), (2, 'two'), (3, 'three')])"
      ]
    },
    {
      "cell_type": "code",
      "execution_count": null,
      "metadata": {
        "colab": {
          "base_uri": "https://localhost:8080/"
        },
        "id": "QO2PyZT3kyB4",
        "outputId": "851a0e60-e4b3-4ee4-d037-5a91e5eecf95"
      },
      "outputs": [
        {
          "output_type": "execute_result",
          "data": {
            "text/plain": [
              "OrderedDict([(1, 'one'), (2, 'two'), (3, 'three')])"
            ]
          },
          "metadata": {},
          "execution_count": 161
        }
      ],
      "source": [
        "od"
      ]
    },
    {
      "cell_type": "code",
      "execution_count": null,
      "metadata": {
        "id": "IxI9tRsrkyB4"
      },
      "outputs": [],
      "source": [
        "od[100] = 'hundred'"
      ]
    },
    {
      "cell_type": "code",
      "execution_count": null,
      "metadata": {
        "id": "-XhZ6oB-kyB5"
      },
      "outputs": [],
      "source": [
        "od[-1] = 'negative one'"
      ]
    },
    {
      "cell_type": "code",
      "execution_count": null,
      "metadata": {
        "colab": {
          "base_uri": "https://localhost:8080/"
        },
        "id": "dLcwLhiQkyB5",
        "outputId": "05d10d9a-cdfb-4c6d-a880-38bb6b205265"
      },
      "outputs": [
        {
          "output_type": "execute_result",
          "data": {
            "text/plain": [
              "OrderedDict([(1, 'one'),\n",
              "             (2, 'two'),\n",
              "             (3, 'three'),\n",
              "             (100, 'hundred'),\n",
              "             (-1, 'negative one')])"
            ]
          },
          "metadata": {},
          "execution_count": 164
        }
      ],
      "source": [
        "od"
      ]
    },
    {
      "cell_type": "markdown",
      "source": [
        "Otro Ejemplo"
      ],
      "metadata": {
        "id": "m1_Hyhg5r0gQ"
      }
    },
    {
      "cell_type": "code",
      "execution_count": null,
      "metadata": {
        "colab": {
          "base_uri": "https://localhost:8080/"
        },
        "id": "JAERATDZkyB5",
        "outputId": "f8cd15b9-c4f8-4ce8-9ee2-4f84b893f064"
      },
      "outputs": [
        {
          "output_type": "stream",
          "name": "stdout",
          "text": [
            "OrderedDict([('a', 5), ('b', 2), ('c', 3)])\n",
            "a 5\n",
            "b 2\n",
            "c 3\n"
          ]
        }
      ],
      "source": [
        "from collections import OrderedDict\n",
        "\n",
        "# Crear un OrderedDict\n",
        "ordered_dict = OrderedDict()\n",
        "\n",
        "# Agregar elementos al OrderedDict\n",
        "ordered_dict['a'] = 5\n",
        "ordered_dict['b'] = 2\n",
        "ordered_dict['c'] = 3\n",
        "\n",
        "# Imprimir el OrderedDict\n",
        "print(ordered_dict)  # Salida: OrderedDict([('a', 1), ('b', 2), ('c', 3)])\n",
        "\n",
        "# Iterar sobre el OrderedDict\n",
        "for key, value in ordered_dict.items():\n",
        "    print(key, value)\n",
        "# Salida:\n",
        "# a 1\n",
        "# b 2\n",
        "# c 3"
      ]
    },
    {
      "cell_type": "markdown",
      "metadata": {
        "id": "XYXluBIJkyB5"
      },
      "source": [
        "## Ejercicio\n",
        "Cree un dictado que asigne alfabetos en minúsculas a sus valores ASCII correspondientes, por ejemplo, a asigna a 97, b asigna a 98, ..., z asigna a 122 e imprime el diccionario en orden alfabético"
      ]
    },
    {
      "cell_type": "code",
      "execution_count": null,
      "metadata": {
        "id": "CccHgzydkyB6"
      },
      "outputs": [],
      "source": [
        "import string\n",
        "lettersToDigits = dict(zip(string.ascii_lowercase, range(ord('a'), ord('z')+1)))"
      ]
    },
    {
      "cell_type": "code",
      "execution_count": null,
      "metadata": {
        "colab": {
          "base_uri": "https://localhost:8080/"
        },
        "id": "qudzlrTOkyB6",
        "outputId": "cd966cd2-6264-40f3-fb21-af3b1d3a0f0e"
      },
      "outputs": [
        {
          "output_type": "stream",
          "name": "stdout",
          "text": [
            "{'a': 97, 'b': 98, 'c': 99, 'd': 100, 'e': 101, 'f': 102, 'g': 103, 'h': 104, 'i': 105, 'j': 106, 'k': 107, 'l': 108, 'm': 109, 'n': 110, 'o': 111, 'p': 112, 'q': 113, 'r': 114, 's': 115, 't': 116, 'u': 117, 'v': 118, 'w': 119, 'x': 120, 'y': 121, 'z': 122}\n"
          ]
        }
      ],
      "source": [
        "print(lettersToDigits)"
      ]
    },
    {
      "cell_type": "markdown",
      "metadata": {
        "id": "f1uLdCyXkyB6"
      },
      "source": [
        "## Counter\n",
        "En Python, **Counter** es otra clase que se encuentra en el módulo collections. Counter es una subclase de diccionario (dict) y se utiliza para contar elementos en una colección, generalmente en una lista o cualquier otra estructura de datos iterable.\n",
        "\n",
        "La clase Counter permite crear un diccionario especializado que mapea elementos únicos en la colección iterable a sus recuentos de ocurrencias. Es muy útil para tareas de recuento y análisis de frecuencias.\n",
        "\n",
        "Counter también proporciona algunos métodos útiles para realizar operaciones comunes, como obtener los elementos más comunes, realizar operaciones de unión e intersección, restar contadores, entre otros.\n",
        "\n",
        "Para utilizar Counter, primero debes importarlo desde el módulo collections.\n",
        "\n",
        "Aquí tienes un ejemplo que muestra cómo usarlo:"
      ]
    },
    {
      "cell_type": "code",
      "source": [
        "from collections import Counter\n",
        "\n",
        "# Crear una lista con algunos elementos repetidos\n",
        "lista_ejemplo = [1, 2, 3, 1, 2, 1, 4, 5, 2, 4]\n",
        "\n",
        "# Contar los elementos en la lista usando Counter\n",
        "contador_elementos = Counter(lista_ejemplo)\n",
        "\n",
        "print(contador_elementos)\n",
        "# Salida: Counter({1: 3, 2: 3, 4: 2, 3: 1, 5: 1})"
      ],
      "metadata": {
        "colab": {
          "base_uri": "https://localhost:8080/"
        },
        "id": "XaB9a63YsmHW",
        "outputId": "49baccf2-2961-4928-9b90-d764748690ab"
      },
      "execution_count": null,
      "outputs": [
        {
          "output_type": "stream",
          "name": "stdout",
          "text": [
            "Counter({1: 3, 2: 3, 4: 2, 3: 1, 5: 1})\n"
          ]
        }
      ]
    },
    {
      "cell_type": "code",
      "execution_count": null,
      "metadata": {
        "colab": {
          "base_uri": "https://localhost:8080/"
        },
        "id": "1hnfZUQfkyB6",
        "outputId": "434ea5d1-43bd-4db0-90f4-90152ba53acf"
      },
      "outputs": [
        {
          "output_type": "stream",
          "name": "stdout",
          "text": [
            "Counter({'p': 2, 'a': 1, 'l': 1, 'e': 1})\n",
            "Counter({'apple': 2, 'ball': 1})\n"
          ]
        }
      ],
      "source": [
        "from collections import Counter\n",
        "\n",
        "c = Counter('apple') # a un nuevo contador de un iterable\n",
        "print(c)\n",
        "\n",
        "# Contador de iterable\n",
        "d = Counter(['apple', 'apple', 'ball'])\n",
        "\n",
        "print(d)"
      ]
    },
    {
      "cell_type": "code",
      "execution_count": null,
      "metadata": {
        "id": "Ue6vsDZ5kyB8"
      },
      "outputs": [],
      "source": [
        "e = Counter({'apple': 10, 'ball': 20}) # contador de mapeo"
      ]
    },
    {
      "cell_type": "code",
      "execution_count": null,
      "metadata": {
        "colab": {
          "base_uri": "https://localhost:8080/"
        },
        "id": "KVUOtAKakyB9",
        "outputId": "511e45c3-ec54-44dd-926a-5519a8888df5"
      },
      "outputs": [
        {
          "output_type": "execute_result",
          "data": {
            "text/plain": [
              "Counter({'apple': 10, 'ball': 20})"
            ]
          },
          "metadata": {},
          "execution_count": 171
        }
      ],
      "source": [
        "e"
      ]
    },
    {
      "cell_type": "code",
      "execution_count": null,
      "metadata": {
        "id": "yIaccBHJkyB9"
      },
      "outputs": [],
      "source": [
        "f = c+e"
      ]
    },
    {
      "cell_type": "code",
      "execution_count": null,
      "metadata": {
        "colab": {
          "base_uri": "https://localhost:8080/"
        },
        "id": "EiImVzx6kyB9",
        "outputId": "f66e4ac4-7cf3-433e-92a7-af9179e5956e"
      },
      "outputs": [
        {
          "output_type": "execute_result",
          "data": {
            "text/plain": [
              "Counter({'a': 1, 'p': 2, 'l': 1, 'e': 1, 'apple': 10, 'ball': 20})"
            ]
          },
          "metadata": {},
          "execution_count": 173
        }
      ],
      "source": [
        "f"
      ]
    },
    {
      "cell_type": "code",
      "execution_count": null,
      "metadata": {
        "id": "8v-6wgWLkyB9"
      },
      "outputs": [],
      "source": [
        "f = f+d"
      ]
    },
    {
      "cell_type": "code",
      "execution_count": null,
      "metadata": {
        "colab": {
          "base_uri": "https://localhost:8080/"
        },
        "id": "BQvWOtPykyB9",
        "outputId": "0802bea0-1912-43c9-c9ba-6bfe5104c4ad"
      },
      "outputs": [
        {
          "output_type": "execute_result",
          "data": {
            "text/plain": [
              "Counter({'a': 1, 'p': 2, 'l': 1, 'e': 1, 'apple': 12, 'ball': 21})"
            ]
          },
          "metadata": {},
          "execution_count": 175
        }
      ],
      "source": [
        "f"
      ]
    },
    {
      "cell_type": "code",
      "execution_count": null,
      "metadata": {
        "colab": {
          "base_uri": "https://localhost:8080/"
        },
        "id": "ddkdPctSkyB-",
        "outputId": "232c9f3a-ef63-432d-ff31-64594b055743"
      },
      "outputs": [
        {
          "output_type": "execute_result",
          "data": {
            "text/plain": [
              "[('ball', 21), ('apple', 12), ('p', 2), ('a', 1), ('l', 1), ('e', 1)]"
            ]
          },
          "metadata": {},
          "execution_count": 176
        }
      ],
      "source": [
        "f.most_common()"
      ]
    },
    {
      "cell_type": "code",
      "execution_count": null,
      "metadata": {
        "id": "3vY4jmAxkyB-"
      },
      "outputs": [],
      "source": [
        "#help(Counter)"
      ]
    },
    {
      "cell_type": "markdown",
      "source": [
        "# Ejercicio:\n",
        "**Contar Frecuencia de Palabras**\n",
        "\n",
        "Escribe un programa que tome un texto como entrada y cuente la frecuencia de cada palabra en el texto. Luego, muestra las 5 palabras más frecuentes junto con su número de ocurrencias, en orden descendente de frecuencia.\n",
        "\n",
        "Solución en Python:"
      ],
      "metadata": {
        "id": "4N62UHust43Y"
      }
    },
    {
      "cell_type": "code",
      "source": [
        "from collections import OrderedDict, Counter\n",
        "import re\n",
        "\n",
        "def contar_frecuencia_palabras(texto):\n",
        "    # Obtener todas las palabras del texto en minúsculas\n",
        "\n",
        "\n",
        "    # Usar Counter para contar la frecuencia de las palabras\n",
        "\n",
        "\n",
        "    return contador_palabras\n",
        "\n",
        "def palabras_mas_comunes(contador_palabras, n=5):\n",
        "    # Usar OrderedDict para obtener las palabras más comunes en orden\n",
        "    palabras_comunes = OrderedDict(contador_palabras.most_common(n))\n",
        "\n",
        "    return palabras_comunes\n",
        "\n",
        "texto = \"\"\"\n",
        "Python es un lenguaje de programación interpretado de alto nivel.\n",
        "Es conocido por su legibilidad y claridad de código.\n",
        "Python es utilizado en una amplia variedad de aplicaciones,\n",
        "desde desarrollo web hasta análisis de datos y aprendizaje automático.\n",
        "\"\"\"\n",
        "\n",
        "contador = contar_frecuencia_palabras(texto)\n",
        "palabras_comunes = palabras_mas_comunes(contador)\n",
        "\n",
        "print(\"Las palabras más comunes son:\")\n",
        "for palabra, frecuencia in palabras_comunes.items():\n",
        "    print(f\"{palabra}: {frecuencia}\")"
      ],
      "metadata": {
        "colab": {
          "base_uri": "https://localhost:8080/"
        },
        "id": "hnNGGXEB0WI4",
        "outputId": "e168ebd9-7702-44f9-8e3a-01de8d98bb3d"
      },
      "execution_count": null,
      "outputs": [
        {
          "output_type": "stream",
          "name": "stdout",
          "text": [
            "Las palabras más comunes son:\n",
            "de: 5\n",
            "es: 3\n",
            "python: 2\n",
            "y: 2\n",
            "un: 1\n"
          ]
        }
      ]
    }
  ],
  "metadata": {
    "kernelspec": {
      "display_name": "Python 3",
      "language": "python",
      "name": "python3"
    },
    "language_info": {
      "codemirror_mode": {
        "name": "ipython",
        "version": 3
      },
      "file_extension": ".py",
      "mimetype": "text/x-python",
      "name": "python",
      "nbconvert_exporter": "python",
      "pygments_lexer": "ipython3",
      "version": "3.7.3"
    },
    "colab": {
      "provenance": [],
      "include_colab_link": true
    }
  },
  "nbformat": 4,
  "nbformat_minor": 0
}