{
  "nbformat": 4,
  "nbformat_minor": 0,
  "metadata": {
    "colab": {
      "provenance": [],
      "authorship_tag": "ABX9TyNh7lSHVDoLT3Or096aoKv7",
      "include_colab_link": true
    },
    "kernelspec": {
      "name": "python3",
      "display_name": "Python 3"
    },
    "language_info": {
      "name": "python"
    }
  },
  "cells": [
    {
      "cell_type": "markdown",
      "metadata": {
        "id": "view-in-github",
        "colab_type": "text"
      },
      "source": [
        "<a href=\"https://colab.research.google.com/github/ramun9533/Practicas_Python/blob/main/Actividad_7_Ch10_Iteraciones.ipynb\" target=\"_parent\"><img src=\"https://colab.research.google.com/assets/colab-badge.svg\" alt=\"Open In Colab\"/></a>"
      ]
    },
    {
      "cell_type": "code",
      "execution_count": 30,
      "metadata": {
        "colab": {
          "base_uri": "https://localhost:8080/"
        },
        "id": "hoXoCJ11gcVf",
        "outputId": "e542f927-c40e-4f05-993a-9a649673cfb3"
      },
      "outputs": [
        {
          "output_type": "stream",
          "name": "stdout",
          "text": [
            "Fruta 1 1 :  manzana roja\n",
            "Fruta 1 2 :  manzana grande\n",
            "Fruta 1 3 :  manzana dulce\n",
            "Fruta 2 4 :  platano roja\n",
            "Fruta 2 5 :  platano grande\n",
            "Fruta 2 6 :  platano dulce\n",
            "Fruta 3 7 :  cereza roja\n",
            "Fruta 3 8 :  cereza grande\n",
            "Fruta 3 9 :  cereza dulce\n"
          ]
        }
      ],
      "source": [
        "k = 0\n",
        "l = 0\n",
        "adj = [\"roja\", \"grande\", \"dulce\"]\n",
        "fruits = [\"manzana\", \"platano\", \"cereza\"]\n",
        "for i in fruits:\n",
        "  k+=1\n",
        "  for j in adj:\n",
        "    l+=1\n",
        "    print('Fruta',k,l,': ',i,j)\n",
        ""
      ]
    },
    {
      "cell_type": "code",
      "source": [
        "r = 0\n",
        "edad = int(input(\"¿Cuántos años tienes? \"))\n",
        "for i in range(edad):\n",
        "  r += 1\n",
        "  print(f\"Ha cumplido {r}\")\n"
      ],
      "metadata": {
        "colab": {
          "base_uri": "https://localhost:8080/"
        },
        "id": "8xN0ZYoAvp1J",
        "outputId": "af583972-bb59-4cac-bd67-0fa8a6abb8ff"
      },
      "execution_count": 51,
      "outputs": [
        {
          "output_type": "stream",
          "name": "stdout",
          "text": [
            "¿Cuántos años tienes? 5\n",
            "Ha cumplido 1\n",
            "Ha cumplido 2\n",
            "Ha cumplido 3\n",
            "Ha cumplido 4\n",
            "Ha cumplido 5\n"
          ]
        }
      ]
    },
    {
      "cell_type": "code",
      "source": [
        "suma = 1\n",
        "numero = None\n",
        "\n",
        "while (suma != 0):\n",
        "  suma = int(input('Introduce el numero cero para terminar el ciclo '))\n",
        ""
      ],
      "metadata": {
        "colab": {
          "base_uri": "https://localhost:8080/"
        },
        "id": "F1wIKSojDUJk",
        "outputId": "c291e565-5c69-41a7-b8d2-bec282d58c00"
      },
      "execution_count": 54,
      "outputs": [
        {
          "name": "stdout",
          "output_type": "stream",
          "text": [
            "Introduce el numero cero para terminar el ciclo 1\n",
            "Introduce el numero cero para terminar el ciclo 2\n",
            "Introduce el numero cero para terminar el ciclo 3\n",
            "Introduce el numero cero para terminar el ciclo 4\n",
            "Introduce el numero cero para terminar el ciclo 5\n",
            "Introduce el numero cero para terminar el ciclo 6\n",
            "Introduce el numero cero para terminar el ciclo 7\n",
            "Introduce el numero cero para terminar el ciclo 8\n",
            "Introduce el numero cero para terminar el ciclo 9\n",
            "Introduce el numero cero para terminar el ciclo 0\n"
          ]
        }
      ]
    },
    {
      "cell_type": "code",
      "source": [
        "z = 7\n",
        "x = 1\n",
        "while z > 0:\n",
        "    print(' ' * z + '*' * x + ' ' * z)\n",
        "    x+=2\n",
        "    z-=1"
      ],
      "metadata": {
        "colab": {
          "base_uri": "https://localhost:8080/"
        },
        "id": "Md3tOGbmIS4l",
        "outputId": "a5e46d51-dad5-432d-f324-be3b68ed222c"
      },
      "execution_count": 76,
      "outputs": [
        {
          "output_type": "stream",
          "name": "stdout",
          "text": [
            "       *       \n",
            "      ***      \n",
            "     *****     \n",
            "    *******    \n",
            "   *********   \n",
            "  ***********  \n",
            " ************* \n"
          ]
        }
      ]
    },
    {
      "cell_type": "code",
      "source": [],
      "metadata": {
        "id": "I_QRJDjKLgc7"
      },
      "execution_count": null,
      "outputs": []
    },
    {
      "cell_type": "code",
      "source": [],
      "metadata": {
        "id": "Duhzfv0AMSYS"
      },
      "execution_count": null,
      "outputs": []
    }
  ]
}