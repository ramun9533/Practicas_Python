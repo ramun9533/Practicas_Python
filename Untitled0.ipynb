{
  "nbformat": 4,
  "nbformat_minor": 0,
  "metadata": {
    "colab": {
      "provenance": [],
      "authorship_tag": "ABX9TyMJoOTaPWSDFPEmJWT1EBB1",
      "include_colab_link": true
    },
    "kernelspec": {
      "name": "python3",
      "display_name": "Python 3"
    },
    "language_info": {
      "name": "python"
    }
  },
  "cells": [
    {
      "cell_type": "markdown",
      "metadata": {
        "id": "view-in-github",
        "colab_type": "text"
      },
      "source": [
        "<a href=\"https://colab.research.google.com/github/ramun9533/Practicas_Python/blob/main/Untitled0.ipynb\" target=\"_parent\"><img src=\"https://colab.research.google.com/assets/colab-badge.svg\" alt=\"Open In Colab\"/></a>"
      ]
    },
    {
      "cell_type": "code",
      "execution_count": 23,
      "metadata": {
        "colab": {
          "base_uri": "https://localhost:8080/"
        },
        "id": "hoXoCJ11gcVf",
        "outputId": "e738678c-4dab-4150-84e4-53a81326a1cd"
      },
      "outputs": [
        {
          "output_type": "stream",
          "name": "stdout",
          "text": [
            "manzana roja\n",
            "manzana grande\n",
            "manzana dulce\n",
            "platano roja\n",
            "platano grande\n",
            "platano dulce\n",
            "cereza roja\n",
            "cereza grande\n",
            "cereza dulce\n"
          ]
        }
      ],
      "source": [
        "#i = 1\n",
        "#j = 1\n",
        "adj = [\"roja\", \"grande\", \"dulce\"]\n",
        "fruits = [\"manzana\", \"platano\", \"cereza\"]\n",
        "for i in fruits:\n",
        "  for j in adj:\n",
        "    print(i,j)\n",
        ""
      ]
    }
  ]
}