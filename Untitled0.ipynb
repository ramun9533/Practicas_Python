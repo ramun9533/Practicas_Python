{
  "nbformat": 4,
  "nbformat_minor": 0,
  "metadata": {
    "colab": {
      "provenance": [],
      "toc_visible": true,
      "authorship_tag": "ABX9TyPofEdenkzhNCHMJIz7ZLzv",
      "include_colab_link": true
    },
    "kernelspec": {
      "name": "python3",
      "display_name": "Python 3"
    },
    "language_info": {
      "name": "python"
    }
  },
  "cells": [
    {
      "cell_type": "markdown",
      "metadata": {
        "id": "view-in-github",
        "colab_type": "text"
      },
      "source": [
        "<a href=\"https://colab.research.google.com/github/ramun9533/Practicas_Python/blob/main/Untitled0.ipynb\" target=\"_parent\"><img src=\"https://colab.research.google.com/assets/colab-badge.svg\" alt=\"Open In Colab\"/></a>"
      ]
    },
    {
      "cell_type": "code",
      "execution_count": 1,
      "metadata": {
        "colab": {
          "base_uri": "https://localhost:8080/"
        },
        "id": "T3j8uR-56oQx",
        "outputId": "b6263c8b-d61d-4d62-b0d2-5cf4873cf13c"
      },
      "outputs": [
        {
          "output_type": "stream",
          "name": "stdout",
          "text": [
            "Las palabras más comunes son:\n",
            "de: 5\n",
            "es: 3\n",
            "y: 2\n",
            "python: 1\n",
            "un: 1\n"
          ]
        }
      ],
      "source": [
        "from collections import OrderedDict, Counter\n",
        "import re\n",
        "texto = (\"\"\"Python es un lenguaje de programación interpretado de alto nivel.\n",
        "Es conocido por su legibilidad y claridad de código.Python es utilizado en una\n",
        " amplia variedad de aplicaciones, desde desarrollo web hasta análisis de datos\n",
        "  y aprendizaje automático.\"\"\")\n",
        "def contar_frecuencia_palabras(texto):\n",
        "    # Obtener todas las palabras del texto en minúsculas\n",
        "    palabras = texto.lower().split()\n",
        "    contador_palabras = Counter(palabras)\n",
        "\n",
        "    # Usar Counter para contar la frecuencia de las palabras\n",
        "\n",
        "\n",
        "    return contador_palabras\n",
        "\n",
        "def palabras_mas_comunes(contador_palabras, n=5):\n",
        "    # Usar OrderedDict para obtener las palabras más comunes en orden\n",
        "    palabras_comunes = OrderedDict(contador_palabras.most_common(n))\n",
        "    return palabras_comunes\n",
        "contador = contar_frecuencia_palabras(texto)\n",
        "palabras_comunes = palabras_mas_comunes(contador)\n",
        "\n",
        "print(\"Las palabras más comunes son:\")\n",
        "for palabra, frecuencia in palabras_comunes.items():\n",
        "    print(f\"{palabra}: {frecuencia}\")"
      ]
    },
    {
      "cell_type": "markdown",
      "source": [
        "# Sección nueva"
      ],
      "metadata": {
        "id": "8g4VvSXb_Ju6"
      }
    },
    {
      "cell_type": "code",
      "source": [
        "print(texto)"
      ],
      "metadata": {
        "colab": {
          "base_uri": "https://localhost:8080/"
        },
        "id": "MJfi5U0S8HWh",
        "outputId": "ef126fd1-ed82-4d57-f2b0-755041cbbed0"
      },
      "execution_count": null,
      "outputs": [
        {
          "output_type": "stream",
          "name": "stdout",
          "text": [
            "Python es un lenguaje de programación interpretado de alto nivel.\n",
            "Es conocido por su legibilidad y claridad de código.Python es utilizado en una\n",
            " amplia variedad de aplicaciones, desde desarrollo web hasta análisis de datos\n",
            "  y aprendizaje automático.\n"
          ]
        }
      ]
    }
  ]
}