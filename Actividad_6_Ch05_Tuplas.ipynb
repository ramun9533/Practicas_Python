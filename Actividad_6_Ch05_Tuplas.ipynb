{
  "nbformat": 4,
  "nbformat_minor": 0,
  "metadata": {
    "colab": {
      "provenance": [],
      "authorship_tag": "ABX9TyOwsT3ZgQlnrJFzja3qugDU",
      "include_colab_link": true
    },
    "kernelspec": {
      "name": "python3",
      "display_name": "Python 3"
    },
    "language_info": {
      "name": "python"
    }
  },
  "cells": [
    {
      "cell_type": "markdown",
      "metadata": {
        "id": "view-in-github",
        "colab_type": "text"
      },
      "source": [
        "<a href=\"https://colab.research.google.com/github/ramun9533/Practicas_Python/blob/main/Actividad_6_Ch05_Tuplas.ipynb\" target=\"_parent\"><img src=\"https://colab.research.google.com/assets/colab-badge.svg\" alt=\"Open In Colab\"/></a>"
      ]
    },
    {
      "cell_type": "code",
      "execution_count": 11,
      "metadata": {
        "id": "Vh2viAY3JtOa"
      },
      "outputs": [],
      "source": [
        "altura = 2.5\n",
        "base = 3.2\n",
        "color = 'verde'"
      ]
    },
    {
      "cell_type": "code",
      "source": [
        "def calcula_rectangulo(altura, base, color):\n",
        "  \"\"\"Calculates the area and perimeter of a square\"\"\"\n",
        "\n",
        "  area = base * altura\n",
        "  perimetro = 2 * base + 2 * altura\n",
        "\n",
        "  return (area, perimetro, color)"
      ],
      "metadata": {
        "id": "Ctmf6pG4LP6V"
      },
      "execution_count": 12,
      "outputs": []
    },
    {
      "cell_type": "code",
      "source": [
        "#side = 3.0\n",
        "results = calcula_rectangulo(altura, base, color)"
      ],
      "metadata": {
        "id": "FmYBxIfoLZfF"
      },
      "execution_count": 18,
      "outputs": []
    },
    {
      "cell_type": "code",
      "source": [
        "results\n"
      ],
      "metadata": {
        "colab": {
          "base_uri": "https://localhost:8080/"
        },
        "id": "lP7j-sPlMVLj",
        "outputId": "936f907e-516b-4208-c1b3-61bb935bd7e9"
      },
      "execution_count": 19,
      "outputs": [
        {
          "output_type": "execute_result",
          "data": {
            "text/plain": [
              "(8.0, 11.4, 'verde')"
            ]
          },
          "metadata": {},
          "execution_count": 19
        }
      ]
    },
    {
      "cell_type": "code",
      "source": [
        "result_area =  results[0]\n",
        "result_perimetro = results[1]\n",
        "result_color = results[2]"
      ],
      "metadata": {
        "id": "E9FsYzl4NcO-"
      },
      "execution_count": 20,
      "outputs": []
    },
    {
      "cell_type": "code",
      "source": [
        "result_color"
      ],
      "metadata": {
        "colab": {
          "base_uri": "https://localhost:8080/",
          "height": 35
        },
        "id": "IP7jisL_N9DS",
        "outputId": "928355e7-f56f-4c64-be13-2b45b7b56b7c"
      },
      "execution_count": 22,
      "outputs": [
        {
          "output_type": "execute_result",
          "data": {
            "text/plain": [
              "'verde'"
            ],
            "application/vnd.google.colaboratory.intrinsic+json": {
              "type": "string"
            }
          },
          "metadata": {},
          "execution_count": 22
        }
      ]
    }
  ]
}