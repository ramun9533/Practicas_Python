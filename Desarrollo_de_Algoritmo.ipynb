{
  "nbformat": 4,
  "nbformat_minor": 0,
  "metadata": {
    "colab": {
      "provenance": [],
      "authorship_tag": "ABX9TyO0pJuU2Xy0BIIC1lwqk8p2",
      "include_colab_link": true
    },
    "kernelspec": {
      "name": "python3",
      "display_name": "Python 3"
    },
    "language_info": {
      "name": "python"
    }
  },
  "cells": [
    {
      "cell_type": "markdown",
      "metadata": {
        "id": "view-in-github",
        "colab_type": "text"
      },
      "source": [
        "<a href=\"https://colab.research.google.com/github/ramun9533/Practicas_Python/blob/main/Desarrollo_de_Algoritmo.ipynb\" target=\"_parent\"><img src=\"https://colab.research.google.com/assets/colab-badge.svg\" alt=\"Open In Colab\"/></a>"
      ]
    },
    {
      "cell_type": "code",
      "execution_count": 6,
      "metadata": {
        "colab": {
          "base_uri": "https://localhost:8080/"
        },
        "id": "navhTZcD3Q-r",
        "outputId": "32266842-55d6-4654-de73-ceea0768ed77"
      },
      "outputs": [
        {
          "name": "stdout",
          "output_type": "stream",
          "text": [
            "Me das el radio: 12.3\n"
          ]
        }
      ],
      "source": [
        "import math\n",
        "math.pi\n",
        "radio = float(input(\"Me das el radio: \"))"
      ]
    },
    {
      "cell_type": "code",
      "source": [
        "from functools import reduce\n",
        "numeros_lista = list(range(1,1000))\n",
        "numeros_pares_lista = [num for num in numeros_lista if num % 3 == 0 and num > 0]\n",
        "numeros_cincos_lista = [num for num in numeros_lista\n",
        "                        if num % 5 == 0 and num > 0]\n",
        "orden1 = (numeros_pares_lista + numeros_cincos_lista)\n",
        "suma = reduce(lambda numeros_cincos_lista, numeros_pares_lista:\n",
        "              numeros_pares_lista + numeros_cincos_lista, orden1)\n",
        "sorted(orden1)\n",
        "print(orden1)\n",
        "print(suma)"
      ],
      "metadata": {
        "colab": {
          "base_uri": "https://localhost:8080/"
        },
        "id": "4vjM9zzd5i81",
        "outputId": "b8a75b15-c284-47db-a11b-d69285ad478c"
      },
      "execution_count": 43,
      "outputs": [
        {
          "output_type": "stream",
          "name": "stdout",
          "text": [
            "[3, 6, 9, 12, 15, 18, 21, 24, 27, 30, 33, 36, 39, 42, 45, 48, 51, 54, 57, 60, 63, 66, 69, 72, 75, 78, 81, 84, 87, 90, 93, 96, 99, 102, 105, 108, 111, 114, 117, 120, 123, 126, 129, 132, 135, 138, 141, 144, 147, 150, 153, 156, 159, 162, 165, 168, 171, 174, 177, 180, 183, 186, 189, 192, 195, 198, 201, 204, 207, 210, 213, 216, 219, 222, 225, 228, 231, 234, 237, 240, 243, 246, 249, 252, 255, 258, 261, 264, 267, 270, 273, 276, 279, 282, 285, 288, 291, 294, 297, 300, 303, 306, 309, 312, 315, 318, 321, 324, 327, 330, 333, 336, 339, 342, 345, 348, 351, 354, 357, 360, 363, 366, 369, 372, 375, 378, 381, 384, 387, 390, 393, 396, 399, 402, 405, 408, 411, 414, 417, 420, 423, 426, 429, 432, 435, 438, 441, 444, 447, 450, 453, 456, 459, 462, 465, 468, 471, 474, 477, 480, 483, 486, 489, 492, 495, 498, 501, 504, 507, 510, 513, 516, 519, 522, 525, 528, 531, 534, 537, 540, 543, 546, 549, 552, 555, 558, 561, 564, 567, 570, 573, 576, 579, 582, 585, 588, 591, 594, 597, 600, 603, 606, 609, 612, 615, 618, 621, 624, 627, 630, 633, 636, 639, 642, 645, 648, 651, 654, 657, 660, 663, 666, 669, 672, 675, 678, 681, 684, 687, 690, 693, 696, 699, 702, 705, 708, 711, 714, 717, 720, 723, 726, 729, 732, 735, 738, 741, 744, 747, 750, 753, 756, 759, 762, 765, 768, 771, 774, 777, 780, 783, 786, 789, 792, 795, 798, 801, 804, 807, 810, 813, 816, 819, 822, 825, 828, 831, 834, 837, 840, 843, 846, 849, 852, 855, 858, 861, 864, 867, 870, 873, 876, 879, 882, 885, 888, 891, 894, 897, 900, 903, 906, 909, 912, 915, 918, 921, 924, 927, 930, 933, 936, 939, 942, 945, 948, 951, 954, 957, 960, 963, 966, 969, 972, 975, 978, 981, 984, 987, 990, 993, 996, 999, 5, 10, 15, 20, 25, 30, 35, 40, 45, 50, 55, 60, 65, 70, 75, 80, 85, 90, 95, 100, 105, 110, 115, 120, 125, 130, 135, 140, 145, 150, 155, 160, 165, 170, 175, 180, 185, 190, 195, 200, 205, 210, 215, 220, 225, 230, 235, 240, 245, 250, 255, 260, 265, 270, 275, 280, 285, 290, 295, 300, 305, 310, 315, 320, 325, 330, 335, 340, 345, 350, 355, 360, 365, 370, 375, 380, 385, 390, 395, 400, 405, 410, 415, 420, 425, 430, 435, 440, 445, 450, 455, 460, 465, 470, 475, 480, 485, 490, 495, 500, 505, 510, 515, 520, 525, 530, 535, 540, 545, 550, 555, 560, 565, 570, 575, 580, 585, 590, 595, 600, 605, 610, 615, 620, 625, 630, 635, 640, 645, 650, 655, 660, 665, 670, 675, 680, 685, 690, 695, 700, 705, 710, 715, 720, 725, 730, 735, 740, 745, 750, 755, 760, 765, 770, 775, 780, 785, 790, 795, 800, 805, 810, 815, 820, 825, 830, 835, 840, 845, 850, 855, 860, 865, 870, 875, 880, 885, 890, 895, 900, 905, 910, 915, 920, 925, 930, 935, 940, 945, 950, 955, 960, 965, 970, 975, 980, 985, 990, 995]\n",
            "266333\n"
          ]
        }
      ]
    },
    {
      "cell_type": "code",
      "source": [
        "numeros_lista = list(range(1,11))\n",
        "numeros_pares_lista = [num for num in numeros_lista if num % 3 == 0 and num > 0 and num % 5 == 0 and num > 0]\n",
        "print(numeros_pares_lista)"
      ],
      "metadata": {
        "colab": {
          "base_uri": "https://localhost:8080/"
        },
        "id": "HaLVc3qh6b3x",
        "outputId": "d9ce3b1b-b60a-4bda-e045-8e071f58c31c"
      },
      "execution_count": 26,
      "outputs": [
        {
          "output_type": "stream",
          "name": "stdout",
          "text": [
            "[]\n"
          ]
        }
      ]
    },
    {
      "cell_type": "markdown",
      "source": [
        "# Numeros pares Fibonacci\n",
        "Cada nuevo número de la secuencia de Fibonacci se genera sumando los dos números anteriores. Al comenzar con 0 y 1:\n",
        "\n",
        "0, 1, 1, 2, 3, 5, 8, 13, 21, 34, 55, 89, ...\n",
        "\n",
        "Al considerar los números en la secuencia de Fibonacci cuyo valor no sea mayor o igual a cuatro millones, encuentre la suma de los términos pares.\n",
        "\n",
        "»» Pasos\n",
        "\n",
        "    Crear secuencia Fibonacci\n",
        "    Identificar números pares\n",
        "    Si es número par sumar\n",
        "    Si mi número Fibonacci es mayor o igual a cuatro millones dejar de ejecutar proceso\n"
      ],
      "metadata": {
        "id": "-y7fRWaXFXHA"
      }
    },
    {
      "cell_type": "code",
      "source": [
        "#Números pares Fibonacci\n"
      ],
      "metadata": {
        "id": "DKRw9QWtFCzB"
      },
      "execution_count": null,
      "outputs": []
    }
  ]
}